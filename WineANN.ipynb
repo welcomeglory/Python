{
  "nbformat": 4,
  "nbformat_minor": 0,
  "metadata": {
    "colab": {
      "provenance": [],
      "mount_file_id": "1l721uX8edkjfZC9bu6DPVmMl3yyUUVG4",
      "authorship_tag": "ABX9TyNgdI012IJY03OKelToFwRJ",
      "include_colab_link": true
    },
    "kernelspec": {
      "name": "python3",
      "display_name": "Python 3"
    },
    "language_info": {
      "name": "python"
    }
  },
  "cells": [
    {
      "cell_type": "markdown",
      "metadata": {
        "id": "view-in-github",
        "colab_type": "text"
      },
      "source": [
        "<a href=\"https://colab.research.google.com/github/welcomeglory/Python/blob/master/WineANN.ipynb\" target=\"_parent\"><img src=\"https://colab.research.google.com/assets/colab-badge.svg\" alt=\"Open In Colab\"/></a>"
      ]
    },
    {
      "cell_type": "code",
      "execution_count": 1,
      "metadata": {
        "colab": {
          "base_uri": "https://localhost:8080/"
        },
        "id": "UlRcIvn-YeXx",
        "outputId": "b0ecf0c8-777c-4844-a019-399ae3112818"
      },
      "outputs": [
        {
          "output_type": "stream",
          "name": "stdout",
          "text": [
            "2.17.0\n"
          ]
        }
      ],
      "source": [
        "# !pip install tqdm\n",
        "import tensorflow as tf\n",
        "print(tf.__version__)\n",
        "import pandas as pd\n",
        "import numpy as np\n",
        "from tqdm import tqdm\n",
        "from sklearn.model_selection import train_test_split"
      ]
    },
    {
      "cell_type": "code",
      "source": [
        "# red? white?\n",
        "class WineANN(tf.keras.Model):\n",
        "    def __init__(self):\n",
        "        super(WineANN, self).__init__()\n",
        "        # 층을 몇개, 노드 몇개 : 2층\n",
        "        # 입력층 12개 x : input층 Dense : layer층 weight - 176개 생성\n",
        "        self.hidden1 = tf.keras.layers.Dense(8,\n",
        "                                             activation='relu',\n",
        "                                             kernel_initializer = self.weight_initialization(),\n",
        "                                             bias_initializer = self.weight_initialization())\n",
        "        self.hidden2 = tf.keras.layers.Dense(8,\n",
        "                                             activation='relu',\n",
        "                                             kernel_initializer = self.weight_initialization(),\n",
        "                                             bias_initializer = self.weight_initialization())\n",
        "        self.result = tf.keras.layers.Dense(2,\n",
        "                                            activation=None,\n",
        "                                            kernel_initializer = self.weight_initialization(),\n",
        "                                            bias_initializer = self.weight_initialization())\n",
        "\n",
        "    def weight_initialization(self):\n",
        "        return tf.keras.initializers.RandomNormal(mean=0, stddev=1)\n",
        "\n",
        "    def call(self, x, training=False):\n",
        "        # 층에 순서대로 계산\n",
        "        y1 = self.hidden1(x)\n",
        "        y2 = self.hidden2(y1)\n",
        "        logits = self.result(y2) #\n",
        "        sy = tf.nn.softmax(logits) # 확률이 높은것 고름\n",
        "        return logits, sy"
      ],
      "metadata": {
        "id": "qfrNTumHZDif"
      },
      "execution_count": 5,
      "outputs": []
    },
    {
      "cell_type": "code",
      "source": [
        "@tf.function\n",
        "def cross_entropy_loss(logits, y):\n",
        "    return tf.reduce_mean(tf.nn.softmax_cross_entropy_with_logits(logits=logits, labels=y)) # 에러률 ex)0.2 0.1 ....\n",
        "\n",
        "learningRate = 0.001 # learningRate가 작을수록 섬세하다\n",
        "optimizer = tf.optimizers.Adam(learningRate) # 미분법(경사하강법), Adagrad, Momentum,....\n",
        "\n",
        "@tf.function\n",
        "def backward(model, x, y):\n",
        "    with tf.GradientTape() as grad:\n",
        "        logits, sy = model(x, training=True) #call함수 부르는 곳\n",
        "        loss = cross_entropy_loss(logits, y)\n",
        "    grads = grad.gradient(loss, model.trainable_variables)\n",
        "    optimizer.apply_gradients(zip(grads, model.trainable_variables))\n",
        "    return loss\n",
        "\n",
        "@tf.function\n",
        "def accuracy(predY, y):\n",
        "    correct_pred = tf.equal(tf.argmax(predY, axis=1), tf.argmax(y, axis=1))\n",
        "    acc = tf.reduce_mean(tf.cast(correct_pred, tf.float32))\n",
        "    return acc"
      ],
      "metadata": {
        "id": "qIfXIQaZYlky"
      },
      "execution_count": 2,
      "outputs": []
    },
    {
      "cell_type": "code",
      "source": [
        "# Training function\n",
        "def train_learning(epochs, frequency, trainDataIter, model, XTest, yTest): # frequency 에러출력 빈도\n",
        "    y_loss = []\n",
        "    for epoch in tqdm(range(epochs)):\n",
        "        bx, by = next(trainDataIter)\n",
        "        loss = backward(model, bx, by)\n",
        "        y_loss.append(loss)\n",
        "        if epoch % frequency == 0:\n",
        "            predY, sy = model(bx, training=False)\n",
        "            acc = accuracy(predY, by)\n",
        "            print(f\"Epoch: {epoch+1} ===> Loss: {loss:.4f}, Accuracy: {acc:.4f}\")\n",
        "    predY, sy = model(XTest, training=False)\n",
        "    acc = accuracy(predY, yTest)\n",
        "    print(f\"Test Accuracy: {acc:.4f}\")\n",
        "    return y_loss"
      ],
      "metadata": {
        "id": "c4jgxzjrYoyo"
      },
      "execution_count": 3,
      "outputs": []
    },
    {
      "cell_type": "code",
      "source": [
        "red_path = \"/content/drive/MyDrive/세종교육/winequality-red.csv\"\n",
        "white_path = \"/content/drive/MyDrive/세종교육/winequality-white.csv\"\n",
        "red_df = pd.read_csv(red_path, sep=';')\n",
        "red_df['label'] = 0\n",
        "white_df = pd.read_csv(white_path, sep=';')\n",
        "white_df['label'] = 1\n",
        "wine_df = pd.concat([red_df, white_df])\n",
        "wine_df.reset_index(drop=True, inplace=True)\n",
        "matrix = wine_df.values\n",
        "X = matrix[:, :-1]\n",
        "X = (X-X.min(axis=0)) / (X.max(axis=0)-X.min(axis=0))\n",
        "# print(X)\n",
        "y = matrix[:, -1]\n",
        "\n",
        "\n",
        "XTrain, XTest, yTrain, yTest = train_test_split(X, y, test_size=0.3, random_state=42)\n",
        "XTrain, XTest = XTrain.astype('float32'), XTest.astype('float32')\n",
        "\n",
        "# One-hot encode y\n",
        "yTrain = tf.one_hot(yTrain.flatten(), 2)\n",
        "yTest = tf.one_hot(yTest.flatten(), 2)\n",
        "\n",
        "train_data = tf.data.Dataset.from_tensor_slices((XTrain, yTrain))\n",
        "train_data = train_data.shuffle(buffer_size=XTrain.shape[0]).batch(300).repeat()\n",
        "trainDataIter = iter(train_data)\n",
        "bx, by = next(trainDataIter)\n",
        "\n",
        "epochs = 5000\n",
        "frequency = 150\n",
        "\n",
        "model = WineANN()\n",
        "y_loss = train_learning(epochs, frequency, trainDataIter, model, XTest, yTest)\n"
      ],
      "metadata": {
        "colab": {
          "base_uri": "https://localhost:8080/"
        },
        "id": "faC3ZZe6Yqxp",
        "outputId": "a56bb77d-9e06-4037-a0d0-2b81b3d8357d"
      },
      "execution_count": 6,
      "outputs": [
        {
          "output_type": "stream",
          "name": "stderr",
          "text": [
            "  0%|          | 1/5000 [00:01<1:36:27,  1.16s/it]"
          ]
        },
        {
          "output_type": "stream",
          "name": "stdout",
          "text": [
            "Epoch: 1 ===> Loss: 1.2363, Accuracy: 0.2867\n"
          ]
        },
        {
          "output_type": "stream",
          "name": "stderr",
          "text": [
            "  4%|▍         | 212/5000 [00:01<00:20, 238.37it/s]"
          ]
        },
        {
          "output_type": "stream",
          "name": "stdout",
          "text": [
            "Epoch: 151 ===> Loss: 0.5490, Accuracy: 0.8033\n"
          ]
        },
        {
          "output_type": "stream",
          "name": "stderr",
          "text": [
            "  7%|▋         | 362/5000 [00:02<00:12, 370.60it/s]"
          ]
        },
        {
          "output_type": "stream",
          "name": "stdout",
          "text": [
            "Epoch: 301 ===> Loss: 0.3905, Accuracy: 0.8767\n"
          ]
        },
        {
          "output_type": "stream",
          "name": "stderr",
          "text": [
            " 10%|█         | 513/5000 [00:02<00:10, 447.58it/s]"
          ]
        },
        {
          "output_type": "stream",
          "name": "stdout",
          "text": [
            "Epoch: 451 ===> Loss: 0.2718, Accuracy: 0.9133\n"
          ]
        },
        {
          "output_type": "stream",
          "name": "stderr",
          "text": [
            " 13%|█▎        | 669/5000 [00:02<00:08, 489.43it/s]"
          ]
        },
        {
          "output_type": "stream",
          "name": "stdout",
          "text": [
            "Epoch: 601 ===> Loss: 0.1307, Accuracy: 0.9500\n"
          ]
        },
        {
          "output_type": "stream",
          "name": "stderr",
          "text": [
            " 16%|█▋        | 823/5000 [00:03<00:08, 482.47it/s]"
          ]
        },
        {
          "output_type": "stream",
          "name": "stdout",
          "text": [
            "Epoch: 751 ===> Loss: 0.2680, Accuracy: 0.8936\n"
          ]
        },
        {
          "output_type": "stream",
          "name": "stderr",
          "text": [
            " 20%|█▉        | 979/5000 [00:03<00:08, 501.79it/s]"
          ]
        },
        {
          "output_type": "stream",
          "name": "stdout",
          "text": [
            "Epoch: 901 ===> Loss: 0.1096, Accuracy: 0.9667\n"
          ]
        },
        {
          "output_type": "stream",
          "name": "stderr",
          "text": [
            " 23%|██▎       | 1139/5000 [00:03<00:07, 520.31it/s]"
          ]
        },
        {
          "output_type": "stream",
          "name": "stdout",
          "text": [
            "Epoch: 1051 ===> Loss: 0.1314, Accuracy: 0.9667\n"
          ]
        },
        {
          "output_type": "stream",
          "name": "stderr",
          "text": [
            " 26%|██▌       | 1299/5000 [00:04<00:07, 516.24it/s]"
          ]
        },
        {
          "output_type": "stream",
          "name": "stdout",
          "text": [
            "Epoch: 1201 ===> Loss: 0.0421, Accuracy: 0.9867\n"
          ]
        },
        {
          "output_type": "stream",
          "name": "stderr",
          "text": [
            " 28%|██▊       | 1403/5000 [00:04<00:07, 501.72it/s]"
          ]
        },
        {
          "output_type": "stream",
          "name": "stdout",
          "text": [
            "Epoch: 1351 ===> Loss: 0.0943, Accuracy: 0.9767\n"
          ]
        },
        {
          "output_type": "stream",
          "name": "stderr",
          "text": [
            " 31%|███▏      | 1568/5000 [00:04<00:06, 524.51it/s]"
          ]
        },
        {
          "output_type": "stream",
          "name": "stdout",
          "text": [
            "Epoch: 1501 ===> Loss: 0.0521, Accuracy: 0.9900\n"
          ]
        },
        {
          "output_type": "stream",
          "name": "stderr",
          "text": [
            " 35%|███▍      | 1732/5000 [00:04<00:06, 531.54it/s]"
          ]
        },
        {
          "output_type": "stream",
          "name": "stdout",
          "text": [
            "Epoch: 1651 ===> Loss: 0.0388, Accuracy: 0.9867\n"
          ]
        },
        {
          "output_type": "stream",
          "name": "stderr",
          "text": [
            " 38%|███▊      | 1896/5000 [00:05<00:06, 516.79it/s]"
          ]
        },
        {
          "output_type": "stream",
          "name": "stdout",
          "text": [
            "Epoch: 1801 ===> Loss: 0.0373, Accuracy: 0.9867\n"
          ]
        },
        {
          "output_type": "stream",
          "name": "stderr",
          "text": [
            " 41%|████      | 2054/5000 [00:05<00:05, 509.91it/s]"
          ]
        },
        {
          "output_type": "stream",
          "name": "stdout",
          "text": [
            "Epoch: 1951 ===> Loss: 0.0081, Accuracy: 1.0000\n"
          ]
        },
        {
          "output_type": "stream",
          "name": "stderr",
          "text": [
            " 43%|████▎     | 2159/5000 [00:05<00:05, 514.98it/s]"
          ]
        },
        {
          "output_type": "stream",
          "name": "stdout",
          "text": [
            "Epoch: 2101 ===> Loss: 0.0213, Accuracy: 0.9967\n"
          ]
        },
        {
          "output_type": "stream",
          "name": "stderr",
          "text": [
            " 46%|████▋     | 2316/5000 [00:06<00:05, 486.23it/s]"
          ]
        },
        {
          "output_type": "stream",
          "name": "stdout",
          "text": [
            "Epoch: 2251 ===> Loss: 0.0394, Accuracy: 0.9933\n"
          ]
        },
        {
          "output_type": "stream",
          "name": "stderr",
          "text": [
            " 49%|████▉     | 2464/5000 [00:06<00:05, 474.27it/s]"
          ]
        },
        {
          "output_type": "stream",
          "name": "stdout",
          "text": [
            "Epoch: 2401 ===> Loss: 0.0253, Accuracy: 0.9933\n"
          ]
        },
        {
          "output_type": "stream",
          "name": "stderr",
          "text": [
            " 52%|█████▏    | 2621/5000 [00:06<00:04, 503.79it/s]"
          ]
        },
        {
          "output_type": "stream",
          "name": "stdout",
          "text": [
            "Epoch: 2551 ===> Loss: 0.0288, Accuracy: 0.9933\n"
          ]
        },
        {
          "output_type": "stream",
          "name": "stderr",
          "text": [
            " 56%|█████▌    | 2777/5000 [00:07<00:04, 511.22it/s]"
          ]
        },
        {
          "output_type": "stream",
          "name": "stdout",
          "text": [
            "Epoch: 2701 ===> Loss: 0.0260, Accuracy: 0.9933\n"
          ]
        },
        {
          "output_type": "stream",
          "name": "stderr",
          "text": [
            " 59%|█████▉    | 2938/5000 [00:07<00:03, 523.05it/s]"
          ]
        },
        {
          "output_type": "stream",
          "name": "stdout",
          "text": [
            "Epoch: 2851 ===> Loss: 0.0396, Accuracy: 0.9867\n"
          ]
        },
        {
          "output_type": "stream",
          "name": "stderr",
          "text": [
            " 62%|██████▏   | 3100/5000 [00:07<00:03, 522.95it/s]"
          ]
        },
        {
          "output_type": "stream",
          "name": "stdout",
          "text": [
            "Epoch: 3001 ===> Loss: 0.0108, Accuracy: 1.0000\n"
          ]
        },
        {
          "output_type": "stream",
          "name": "stderr",
          "text": [
            " 64%|██████▍   | 3206/5000 [00:07<00:03, 521.27it/s]"
          ]
        },
        {
          "output_type": "stream",
          "name": "stdout",
          "text": [
            "Epoch: 3151 ===> Loss: 0.0644, Accuracy: 0.9787\n"
          ]
        },
        {
          "output_type": "stream",
          "name": "stderr",
          "text": [
            " 67%|██████▋   | 3366/5000 [00:08<00:03, 506.90it/s]"
          ]
        },
        {
          "output_type": "stream",
          "name": "stdout",
          "text": [
            "Epoch: 3301 ===> Loss: 0.0307, Accuracy: 0.9967\n"
          ]
        },
        {
          "output_type": "stream",
          "name": "stderr",
          "text": [
            " 71%|███████   | 3527/5000 [00:08<00:02, 500.81it/s]"
          ]
        },
        {
          "output_type": "stream",
          "name": "stdout",
          "text": [
            "Epoch: 3451 ===> Loss: 0.0610, Accuracy: 0.9933\n"
          ]
        },
        {
          "output_type": "stream",
          "name": "stderr",
          "text": [
            " 74%|███████▎  | 3684/5000 [00:08<00:02, 510.39it/s]"
          ]
        },
        {
          "output_type": "stream",
          "name": "stdout",
          "text": [
            "Epoch: 3601 ===> Loss: 0.0340, Accuracy: 0.9933\n"
          ]
        },
        {
          "output_type": "stream",
          "name": "stderr",
          "text": [
            " 77%|███████▋  | 3847/5000 [00:09<00:02, 514.17it/s]"
          ]
        },
        {
          "output_type": "stream",
          "name": "stdout",
          "text": [
            "Epoch: 3751 ===> Loss: 0.0314, Accuracy: 0.9933\n"
          ]
        },
        {
          "output_type": "stream",
          "name": "stderr",
          "text": [
            " 79%|███████▉  | 3955/5000 [00:09<00:02, 521.57it/s]"
          ]
        },
        {
          "output_type": "stream",
          "name": "stdout",
          "text": [
            "Epoch: 3901 ===> Loss: 0.0784, Accuracy: 0.9900\n"
          ]
        },
        {
          "output_type": "stream",
          "name": "stderr",
          "text": [
            " 82%|████████▏ | 4114/5000 [00:09<00:01, 504.85it/s]"
          ]
        },
        {
          "output_type": "stream",
          "name": "stdout",
          "text": [
            "Epoch: 4051 ===> Loss: 0.0345, Accuracy: 0.9900\n"
          ]
        },
        {
          "output_type": "stream",
          "name": "stderr",
          "text": [
            " 85%|████████▌ | 4274/5000 [00:09<00:01, 518.81it/s]"
          ]
        },
        {
          "output_type": "stream",
          "name": "stdout",
          "text": [
            "Epoch: 4201 ===> Loss: 0.0341, Accuracy: 0.9900\n"
          ]
        },
        {
          "output_type": "stream",
          "name": "stderr",
          "text": [
            " 88%|████████▊ | 4381/5000 [00:10<00:01, 430.72it/s]"
          ]
        },
        {
          "output_type": "stream",
          "name": "stdout",
          "text": [
            "Epoch: 4351 ===> Loss: 0.0129, Accuracy: 1.0000\n"
          ]
        },
        {
          "output_type": "stream",
          "name": "stderr",
          "text": [
            " 91%|█████████ | 4543/5000 [00:10<00:01, 337.56it/s]"
          ]
        },
        {
          "output_type": "stream",
          "name": "stdout",
          "text": [
            "Epoch: 4501 ===> Loss: 0.0201, Accuracy: 0.9967\n"
          ]
        },
        {
          "output_type": "stream",
          "name": "stderr",
          "text": [
            " 94%|█████████▍| 4711/5000 [00:11<00:00, 313.52it/s]"
          ]
        },
        {
          "output_type": "stream",
          "name": "stdout",
          "text": [
            "Epoch: 4651 ===> Loss: 0.0119, Accuracy: 1.0000\n"
          ]
        },
        {
          "output_type": "stream",
          "name": "stderr",
          "text": [
            " 97%|█████████▋| 4842/5000 [00:11<00:00, 311.39it/s]"
          ]
        },
        {
          "output_type": "stream",
          "name": "stdout",
          "text": [
            "Epoch: 4801 ===> Loss: 0.0571, Accuracy: 0.9833\n"
          ]
        },
        {
          "output_type": "stream",
          "name": "stderr",
          "text": [
            "100%|██████████| 5000/5000 [00:12<00:00, 408.85it/s]"
          ]
        },
        {
          "output_type": "stream",
          "name": "stdout",
          "text": [
            "Epoch: 4951 ===> Loss: 0.0068, Accuracy: 1.0000\n",
            "Test Accuracy: 0.9897\n"
          ]
        },
        {
          "output_type": "stream",
          "name": "stderr",
          "text": [
            "\n"
          ]
        }
      ]
    }
  ]
}