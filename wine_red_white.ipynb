{
  "nbformat": 4,
  "nbformat_minor": 0,
  "metadata": {
    "colab": {
      "provenance": [],
      "mount_file_id": "1b-_710PXGebWrBNBJPmiAitAhydob0gp",
      "authorship_tag": "ABX9TyMm406K1u8We3YEN97RXv2A",
      "include_colab_link": true
    },
    "kernelspec": {
      "name": "python3",
      "display_name": "Python 3"
    },
    "language_info": {
      "name": "python"
    }
  },
  "cells": [
    {
      "cell_type": "markdown",
      "metadata": {
        "id": "view-in-github",
        "colab_type": "text"
      },
      "source": [
        "<a href=\"https://colab.research.google.com/github/welcomeglory/Python/blob/master/wine_red_white.ipynb\" target=\"_parent\"><img src=\"https://colab.research.google.com/assets/colab-badge.svg\" alt=\"Open In Colab\"/></a>"
      ]
    },
    {
      "cell_type": "code",
      "execution_count": 1,
      "metadata": {
        "colab": {
          "base_uri": "https://localhost:8080/"
        },
        "id": "4QERVNwYza8j",
        "outputId": "0857f9bc-a153-47ef-9435-17231b2d4d71"
      },
      "outputs": [
        {
          "output_type": "stream",
          "name": "stdout",
          "text": [
            "2.17.0\n"
          ]
        }
      ],
      "source": [
        "# !pip install tqdm\n",
        "import tensorflow as tf\n",
        "print(tf.__version__)\n",
        "import pandas as pd\n",
        "import numpy as np\n",
        "from tqdm import tqdm\n",
        "import matplotlib.pyplot as plt\n",
        "from sklearn.model_selection import train_test_split\n",
        "\n",
        "# Define the model class\n",
        "class WineANN(tf.keras.Model):\n",
        "    def __init__(self):\n",
        "        super(WineANN, self).__init__()\n",
        "\n",
        "        self.hid1 = tf.keras.layers.Dense(32,\n",
        "                                          activation='relu',\n",
        "                                          kernel_initializer=self.weight_initialization(),\n",
        "                                          bias_initializer=self.weight_initialization())\n",
        "        self.drop1 = tf.keras.layers.Dropout(0.2)\n",
        "\n",
        "        self.hid2 = tf.keras.layers.Dense(64,\n",
        "                                          activation='relu',\n",
        "                                          kernel_initializer=self.weight_initialization(),\n",
        "                                          bias_initializer=self.weight_initialization())\n",
        "        self.drop2 = tf.keras.layers.Dropout(0.2)\n",
        "\n",
        "        self.hid3 = tf.keras.layers.Dense(32,\n",
        "                                          activation='relu',\n",
        "                                          kernel_initializer=self.weight_initialization(),\n",
        "                                          bias_initializer=self.weight_initialization())\n",
        "        self.drop3 = tf.keras.layers.Dropout(0.2)\n",
        "\n",
        "        self.outPut = tf.keras.layers.Dense(2,\n",
        "                                            activation=None,\n",
        "                                            kernel_initializer=self.weight_initialization(),\n",
        "                                            bias_initializer=self.weight_initialization())\n",
        "\n",
        "    def weight_initialization(self):\n",
        "        return tf.keras.initializers.RandomNormal(mean=0., stddev=1.)\n",
        "\n",
        "    def call(self, x, training=False):  # Forward pass\n",
        "        y1 = self.hid1(x)\n",
        "        d1 = self.drop1(y1, training=training)\n",
        "        y2 = self.hid2(d1)\n",
        "        d2 = self.drop2(y2, training=training)\n",
        "        y3 = self.hid3(d2)\n",
        "        d3 = self.drop3(y3, training=training)\n",
        "        logits = self.outPut(d3)\n",
        "        sy = tf.nn.softmax(logits)\n",
        "        return logits, sy\n",
        "\n",
        "# Loss function\n",
        "@tf.function\n",
        "def cross_entropy_loss(logits, y):\n",
        "    return tf.reduce_mean(tf.nn.softmax_cross_entropy_with_logits(logits=logits, labels=y))\n",
        "\n",
        "# Optimizer and backward pass\n",
        "learningRate = 0.01\n",
        "optimizer = tf.optimizers.Adagrad(learningRate)\n",
        "\n",
        "@tf.function\n",
        "def backward(model, x, y):\n",
        "    with tf.GradientTape() as grad:\n",
        "        logits, sy = model(x, training=True)\n",
        "        loss = cross_entropy_loss(logits, y)\n",
        "    grads = grad.gradient(loss, model.trainable_variables)\n",
        "    optimizer.apply_gradients(zip(grads, model.trainable_variables))\n",
        "    return loss\n",
        "\n",
        "# Accuracy function\n",
        "@tf.function\n",
        "def accuracy(predY, y):\n",
        "    correct_predictions = tf.equal(tf.argmax(predY, axis=1), tf.argmax(y, axis=1))\n",
        "    acc = tf.reduce_mean(tf.cast(correct_predictions, tf.float32))\n",
        "    return acc\n",
        "\n",
        "# Training function\n",
        "def train_learning(epochs, frequency, trainDataIter, model, XTest, yTest):\n",
        "    y_loss = []\n",
        "    for epoch in tqdm(range(epochs)):\n",
        "        bx, by = next(trainDataIter)\n",
        "        loss = backward(model, bx, by)\n",
        "        y_loss.append(loss)\n",
        "        if epoch % frequency == 0:\n",
        "            predY, sy = model(bx, training=False)\n",
        "            acc = accuracy(predY, by)\n",
        "            print(f\"Epoch: {epoch+1} ===> Loss: {loss:.4f}, Accuracy: {acc:.4f}\")\n",
        "    predY, sy = model(XTest, training=False)\n",
        "    acc = accuracy(predY, yTest)\n",
        "    print(f\"Test Accuracy: {acc:.4f}\")\n",
        "    return y_loss"
      ]
    },
    {
      "cell_type": "code",
      "source": [
        "red_path = \"/content/drive/MyDrive/세종교육/winequality-red.csv\"\n",
        "white_path = \"/content/drive/MyDrive/세종교육/winequality-white.csv\"\n",
        "red_df = pd.read_csv(red_path, sep=';')\n",
        "red_df['label'] = 0\n",
        "white_df = pd.read_csv(white_path, sep=';')\n",
        "white_df['label'] = 1\n",
        "wine_df = pd.concat([red_df, white_df])\n",
        "wine_df.reset_index(drop=True, inplace=True)\n",
        "matrix = wine_df.values\n",
        "X = matrix[:, :-1]\n",
        "X = (X-X.min(axis=0)) / (X.max(axis=0)-X.min(axis=0))\n",
        "print(X)\n",
        "y = matrix[:, -1]\n",
        "\n",
        "\n",
        "XTrain, XTest, yTrain, yTest = train_test_split(X, y, test_size=0.3, random_state=42)\n",
        "XTrain, XTest = XTrain.astype('float32'), XTest.astype('float32')\n",
        "\n",
        "# One-hot encode y\n",
        "yTrain = tf.one_hot(yTrain.flatten(), 2)\n",
        "yTest = tf.one_hot(yTest.flatten(), 2)\n",
        "\n",
        "train_data = tf.data.Dataset.from_tensor_slices((XTrain, yTrain))\n",
        "train_data = train_data.shuffle(buffer_size=XTrain.shape[0]).batch(300).repeat()\n",
        "trainDataIter = iter(train_data)\n",
        "# bx, by = next(trainDataIter)\n",
        "# print(bx)\n",
        "# print(by)\n",
        "\n",
        "epochs = 5000\n",
        "frequency = 150\n",
        "\n",
        "model = WineANN()\n",
        "y_loss = train_learning(epochs, frequency, trainDataIter, model, XTest, yTest)\n",
        "\n",
        "# # Plot loss curve\n",
        "# plt.plot(y_loss)\n",
        "# plt.xlabel('Epochs')\n",
        "# plt.ylabel('Loss')\n",
        "# plt.title('Loss Curve')\n",
        "# plt.show()"
      ],
      "metadata": {
        "colab": {
          "base_uri": "https://localhost:8080/"
        },
        "id": "Kl_wEbyczvSE",
        "outputId": "1750f554-de0d-43e3-92da-d7e47af76de6"
      },
      "execution_count": 2,
      "outputs": [
        {
          "output_type": "stream",
          "name": "stdout",
          "text": [
            "[[0.29752066 0.41333333 0.         ... 0.19101124 0.20289855 0.33333333]\n",
            " [0.33057851 0.53333333 0.         ... 0.25842697 0.26086957 0.33333333]\n",
            " [0.33057851 0.45333333 0.02409639 ... 0.24157303 0.26086957 0.33333333]\n",
            " ...\n",
            " [0.2231405  0.10666667 0.11445783 ... 0.13483146 0.20289855 0.5       ]\n",
            " [0.14049587 0.14       0.18072289 ... 0.08988764 0.69565217 0.66666667]\n",
            " [0.18181818 0.08666667 0.22891566 ... 0.05617978 0.55072464 0.5       ]]\n"
          ]
        },
        {
          "output_type": "stream",
          "name": "stderr",
          "text": [
            "  0%|          | 15/5000 [00:03<14:36,  5.69it/s] "
          ]
        },
        {
          "output_type": "stream",
          "name": "stdout",
          "text": [
            "Epoch: 1 ===> Loss: 128.1373, Accuracy: 0.2433\n"
          ]
        },
        {
          "output_type": "stream",
          "name": "stderr",
          "text": [
            "  3%|▎         | 170/5000 [00:05<00:45, 106.69it/s]"
          ]
        },
        {
          "output_type": "stream",
          "name": "stdout",
          "text": [
            "Epoch: 151 ===> Loss: 6.4265, Accuracy: 0.8967\n"
          ]
        },
        {
          "output_type": "stream",
          "name": "stderr",
          "text": [
            "  7%|▋         | 333/5000 [00:06<00:30, 153.56it/s]"
          ]
        },
        {
          "output_type": "stream",
          "name": "stdout",
          "text": [
            "Epoch: 301 ===> Loss: 3.2941, Accuracy: 0.9367\n"
          ]
        },
        {
          "output_type": "stream",
          "name": "stderr",
          "text": [
            " 10%|▉         | 480/5000 [00:07<00:30, 148.97it/s]"
          ]
        },
        {
          "output_type": "stream",
          "name": "stdout",
          "text": [
            "Epoch: 451 ===> Loss: 3.6830, Accuracy: 0.9100\n"
          ]
        },
        {
          "output_type": "stream",
          "name": "stderr",
          "text": [
            " 13%|█▎        | 630/5000 [00:08<00:18, 237.20it/s]"
          ]
        },
        {
          "output_type": "stream",
          "name": "stdout",
          "text": [
            "Epoch: 601 ===> Loss: 1.6261, Accuracy: 0.9333\n"
          ]
        },
        {
          "output_type": "stream",
          "name": "stderr",
          "text": [
            " 16%|█▌        | 807/5000 [00:08<00:14, 288.10it/s]"
          ]
        },
        {
          "output_type": "stream",
          "name": "stdout",
          "text": [
            "Epoch: 751 ===> Loss: 1.3075, Accuracy: 0.9567\n"
          ]
        },
        {
          "output_type": "stream",
          "name": "stderr",
          "text": [
            " 18%|█▊        | 920/5000 [00:09<00:15, 257.84it/s]"
          ]
        },
        {
          "output_type": "stream",
          "name": "stdout",
          "text": [
            "Epoch: 901 ===> Loss: 2.1397, Accuracy: 0.9500\n"
          ]
        },
        {
          "output_type": "stream",
          "name": "stderr",
          "text": [
            " 21%|██▏       | 1064/5000 [00:10<00:35, 110.91it/s]"
          ]
        },
        {
          "output_type": "stream",
          "name": "stdout",
          "text": [
            "Epoch: 1051 ===> Loss: 1.7563, Accuracy: 0.9800\n"
          ]
        },
        {
          "output_type": "stream",
          "name": "stderr",
          "text": [
            " 24%|██▍       | 1225/5000 [00:12<00:33, 113.30it/s]"
          ]
        },
        {
          "output_type": "stream",
          "name": "stdout",
          "text": [
            "Epoch: 1201 ===> Loss: 1.5177, Accuracy: 0.9667\n"
          ]
        },
        {
          "output_type": "stream",
          "name": "stderr",
          "text": [
            " 27%|██▋       | 1368/5000 [00:13<00:32, 111.04it/s]"
          ]
        },
        {
          "output_type": "stream",
          "name": "stdout",
          "text": [
            "Epoch: 1351 ===> Loss: 1.4536, Accuracy: 0.9700\n"
          ]
        },
        {
          "output_type": "stream",
          "name": "stderr",
          "text": [
            " 31%|███       | 1551/5000 [00:14<00:15, 226.56it/s]"
          ]
        },
        {
          "output_type": "stream",
          "name": "stdout",
          "text": [
            "Epoch: 1501 ===> Loss: 0.9680, Accuracy: 0.9767\n"
          ]
        },
        {
          "output_type": "stream",
          "name": "stderr",
          "text": [
            " 34%|███▍      | 1693/5000 [00:15<00:12, 269.31it/s]"
          ]
        },
        {
          "output_type": "stream",
          "name": "stdout",
          "text": [
            "Epoch: 1651 ===> Loss: 1.1355, Accuracy: 0.9667\n"
          ]
        },
        {
          "output_type": "stream",
          "name": "stderr",
          "text": [
            " 37%|███▋      | 1835/5000 [00:15<00:11, 271.99it/s]"
          ]
        },
        {
          "output_type": "stream",
          "name": "stdout",
          "text": [
            "Epoch: 1801 ===> Loss: 0.8249, Accuracy: 0.9567\n"
          ]
        },
        {
          "output_type": "stream",
          "name": "stderr",
          "text": [
            " 40%|███▉      | 1999/5000 [00:16<00:11, 265.79it/s]"
          ]
        },
        {
          "output_type": "stream",
          "name": "stdout",
          "text": [
            "Epoch: 1951 ===> Loss: 0.7466, Accuracy: 0.9667\n"
          ]
        },
        {
          "output_type": "stream",
          "name": "stderr",
          "text": [
            " 43%|████▎     | 2142/5000 [00:16<00:10, 271.36it/s]"
          ]
        },
        {
          "output_type": "stream",
          "name": "stdout",
          "text": [
            "Epoch: 2101 ===> Loss: 0.7161, Accuracy: 0.9800\n"
          ]
        },
        {
          "output_type": "stream",
          "name": "stderr",
          "text": [
            " 46%|████▌     | 2286/5000 [00:17<00:10, 267.37it/s]"
          ]
        },
        {
          "output_type": "stream",
          "name": "stdout",
          "text": [
            "Epoch: 2251 ===> Loss: 0.4892, Accuracy: 0.9800\n"
          ]
        },
        {
          "output_type": "stream",
          "name": "stderr",
          "text": [
            " 49%|████▊     | 2427/5000 [00:17<00:11, 226.54it/s]"
          ]
        },
        {
          "output_type": "stream",
          "name": "stdout",
          "text": [
            "Epoch: 2401 ===> Loss: 0.6842, Accuracy: 0.9767\n"
          ]
        },
        {
          "output_type": "stream",
          "name": "stderr",
          "text": [
            " 51%|█████▏    | 2567/5000 [00:18<00:18, 133.80it/s]"
          ]
        },
        {
          "output_type": "stream",
          "name": "stdout",
          "text": [
            "Epoch: 2551 ===> Loss: 0.8923, Accuracy: 0.9667\n"
          ]
        },
        {
          "output_type": "stream",
          "name": "stderr",
          "text": [
            " 54%|█████▍    | 2714/5000 [00:20<00:25, 90.93it/s]"
          ]
        },
        {
          "output_type": "stream",
          "name": "stdout",
          "text": [
            "Epoch: 2701 ===> Loss: 0.8601, Accuracy: 0.9533\n"
          ]
        },
        {
          "output_type": "stream",
          "name": "stderr",
          "text": [
            " 57%|█████▋    | 2871/5000 [00:21<00:20, 102.27it/s]"
          ]
        },
        {
          "output_type": "stream",
          "name": "stdout",
          "text": [
            "Epoch: 2851 ===> Loss: 0.6718, Accuracy: 0.9833\n"
          ]
        },
        {
          "output_type": "stream",
          "name": "stderr",
          "text": [
            " 60%|██████    | 3006/5000 [00:23<00:16, 119.90it/s]"
          ]
        },
        {
          "output_type": "stream",
          "name": "stdout",
          "text": [
            "Epoch: 3001 ===> Loss: 0.5496, Accuracy: 0.9867\n"
          ]
        },
        {
          "output_type": "stream",
          "name": "stderr",
          "text": [
            " 63%|██████▎   | 3171/5000 [00:24<00:11, 154.42it/s]"
          ]
        },
        {
          "output_type": "stream",
          "name": "stdout",
          "text": [
            "Epoch: 3151 ===> Loss: 0.3904, Accuracy: 0.9767\n"
          ]
        },
        {
          "output_type": "stream",
          "name": "stderr",
          "text": [
            " 67%|██████▋   | 3326/5000 [00:25<00:10, 163.74it/s]"
          ]
        },
        {
          "output_type": "stream",
          "name": "stdout",
          "text": [
            "Epoch: 3301 ===> Loss: 0.4344, Accuracy: 0.9833\n"
          ]
        },
        {
          "output_type": "stream",
          "name": "stderr",
          "text": [
            " 70%|██████▉   | 3476/5000 [00:26<00:08, 173.63it/s]"
          ]
        },
        {
          "output_type": "stream",
          "name": "stdout",
          "text": [
            "Epoch: 3451 ===> Loss: 0.8618, Accuracy: 0.9733\n"
          ]
        },
        {
          "output_type": "stream",
          "name": "stderr",
          "text": [
            " 72%|███████▏  | 3621/5000 [00:27<00:07, 173.45it/s]"
          ]
        },
        {
          "output_type": "stream",
          "name": "stdout",
          "text": [
            "Epoch: 3601 ===> Loss: 0.4561, Accuracy: 0.9800\n"
          ]
        },
        {
          "output_type": "stream",
          "name": "stderr",
          "text": [
            " 76%|███████▌  | 3800/5000 [00:28<00:05, 208.31it/s]"
          ]
        },
        {
          "output_type": "stream",
          "name": "stdout",
          "text": [
            "Epoch: 3751 ===> Loss: 0.4541, Accuracy: 0.9767\n"
          ]
        },
        {
          "output_type": "stream",
          "name": "stderr",
          "text": [
            " 79%|███████▊  | 3928/5000 [00:28<00:07, 147.57it/s]"
          ]
        },
        {
          "output_type": "stream",
          "name": "stdout",
          "text": [
            "Epoch: 3901 ===> Loss: 0.3588, Accuracy: 0.9633\n"
          ]
        },
        {
          "output_type": "stream",
          "name": "stderr",
          "text": [
            " 82%|████████▏ | 4075/5000 [00:29<00:05, 161.26it/s]"
          ]
        },
        {
          "output_type": "stream",
          "name": "stdout",
          "text": [
            "Epoch: 4051 ===> Loss: 0.4030, Accuracy: 0.9767\n"
          ]
        },
        {
          "output_type": "stream",
          "name": "stderr",
          "text": [
            " 84%|████████▍ | 4224/5000 [00:30<00:05, 153.19it/s]"
          ]
        },
        {
          "output_type": "stream",
          "name": "stdout",
          "text": [
            "Epoch: 4201 ===> Loss: 0.4252, Accuracy: 0.9867\n"
          ]
        },
        {
          "output_type": "stream",
          "name": "stderr",
          "text": [
            " 88%|████████▊ | 4399/5000 [00:31<00:02, 264.91it/s]"
          ]
        },
        {
          "output_type": "stream",
          "name": "stdout",
          "text": [
            "Epoch: 4351 ===> Loss: 0.2837, Accuracy: 0.9800\n"
          ]
        },
        {
          "output_type": "stream",
          "name": "stderr",
          "text": [
            " 91%|█████████ | 4546/5000 [00:32<00:01, 279.81it/s]"
          ]
        },
        {
          "output_type": "stream",
          "name": "stdout",
          "text": [
            "Epoch: 4501 ===> Loss: 0.2384, Accuracy: 0.9933\n"
          ]
        },
        {
          "output_type": "stream",
          "name": "stderr",
          "text": [
            " 94%|█████████▍| 4694/5000 [00:32<00:01, 283.15it/s]"
          ]
        },
        {
          "output_type": "stream",
          "name": "stdout",
          "text": [
            "Epoch: 4651 ===> Loss: 0.3391, Accuracy: 0.9767\n"
          ]
        },
        {
          "output_type": "stream",
          "name": "stderr",
          "text": [
            " 97%|█████████▋| 4843/5000 [00:33<00:00, 274.81it/s]"
          ]
        },
        {
          "output_type": "stream",
          "name": "stdout",
          "text": [
            "Epoch: 4801 ===> Loss: 0.2753, Accuracy: 0.9867\n"
          ]
        },
        {
          "output_type": "stream",
          "name": "stderr",
          "text": [
            "100%|██████████| 5000/5000 [00:33<00:00, 148.38it/s]"
          ]
        },
        {
          "output_type": "stream",
          "name": "stdout",
          "text": [
            "Epoch: 4951 ===> Loss: 0.3890, Accuracy: 0.9833\n",
            "Test Accuracy: 0.9790\n"
          ]
        },
        {
          "output_type": "stream",
          "name": "stderr",
          "text": [
            "\n"
          ]
        }
      ]
    },
    {
      "cell_type": "code",
      "source": [
        "path = '/content/drive/MyDrive/세종교육/student_grade/'\n",
        "model.save(path + \"wineAnn_tf_2_15_version\")\n",
        "model.summary()"
      ],
      "metadata": {
        "id": "YXqYGYmjz0rS"
      },
      "execution_count": null,
      "outputs": []
    },
    {
      "cell_type": "code",
      "source": [
        "# model1 =tf.keras.models.load_model(path + \"wineAnn_tf_2_15_version0\")\n",
        "print(XTest[71:72])\n",
        "predY = model.predict(XTest[71:72])\n",
        "print(int(tf.argmax(yTest[71:72][0], axis=0)))\n",
        "print(predY[1].argmax())\n",
        "predY"
      ],
      "metadata": {
        "colab": {
          "base_uri": "https://localhost:8080/"
        },
        "id": "ts6aVCGlz4aE",
        "outputId": "ca9bac78-1282-4149-b5f4-5f94365558cb"
      },
      "execution_count": 4,
      "outputs": [
        {
          "output_type": "stream",
          "name": "stdout",
          "text": [
            "[[0.29752067 0.34666666 0.15662651 0.02300614 0.12292359 0.05555556\n",
            "  0.19585253 0.17447464 0.44186047 0.19101124 0.26086956 0.5       ]]\n",
            "\u001b[1m1/1\u001b[0m \u001b[32m━━━━━━━━━━━━━━━━━━━━\u001b[0m\u001b[37m\u001b[0m \u001b[1m0s\u001b[0m 80ms/step\n",
            "0\n",
            "0\n"
          ]
        },
        {
          "output_type": "execute_result",
          "data": {
            "text/plain": [
              "(array([[17.843185, 14.863704]], dtype=float32),\n",
              " array([[0.9516385 , 0.04836148]], dtype=float32))"
            ]
          },
          "metadata": {},
          "execution_count": 4
        }
      ]
    }
  ]
}