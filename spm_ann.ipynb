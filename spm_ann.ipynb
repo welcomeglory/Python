{
  "nbformat": 4,
  "nbformat_minor": 0,
  "metadata": {
    "colab": {
      "provenance": [],
      "mount_file_id": "1_PqDdsDkScG17zfRYgP0e3P6GLrzNQFu",
      "authorship_tag": "ABX9TyOqCTuvEYj6aWHh0gCvTE/n",
      "include_colab_link": true
    },
    "kernelspec": {
      "name": "python3",
      "display_name": "Python 3"
    },
    "language_info": {
      "name": "python"
    }
  },
  "cells": [
    {
      "cell_type": "markdown",
      "metadata": {
        "id": "view-in-github",
        "colab_type": "text"
      },
      "source": [
        "<a href=\"https://colab.research.google.com/github/welcomeglory/Python/blob/master/spm_ann.ipynb\" target=\"_parent\"><img src=\"https://colab.research.google.com/assets/colab-badge.svg\" alt=\"Open In Colab\"/></a>"
      ]
    },
    {
      "cell_type": "code",
      "source": [
        "import pandas as pd\n",
        "import numpy as np\n",
        "import tensorflow as tf\n",
        "print(tf.__version__)\n",
        "from sklearn.model_selection import train_test_split"
      ],
      "metadata": {
        "colab": {
          "base_uri": "https://localhost:8080/"
        },
        "id": "J1V1I3ZJggJ-",
        "outputId": "633a5d3b-dd7a-41a2-b4b1-09375c302a43"
      },
      "execution_count": 15,
      "outputs": [
        {
          "output_type": "stream",
          "name": "stdout",
          "text": [
            "2.17.0\n"
          ]
        }
      ]
    },
    {
      "cell_type": "code",
      "source": [
        "import pandas as pd\n",
        "import numpy as np\n",
        "import tensorflow as tf\n",
        "print(tf.__version__)\n",
        "from tqdm import tqdm\n",
        "from sklearn.model_selection import train_test_split\n",
        "# 학생 등급 출력\n",
        "# Define the model class # 32층\n",
        "class SPMANN(tf.keras.Model):\n",
        "    def __init__(self):\n",
        "        super(SPMANN, self).__init__()\n",
        "\n",
        "        self.hid1 = tf.keras.layers.Dense(32,\n",
        "                                          activation='relu',\n",
        "                                          kernel_initializer=self.weight_initialization(),\n",
        "                                          bias_initializer=self.weight_initialization())\n",
        "        self.drop1 = tf.keras.layers.Dropout(0.2)\n",
        "\n",
        "        self.hid2 = tf.keras.layers.Dense(32,\n",
        "                                          activation='relu',\n",
        "                                          kernel_initializer=self.weight_initialization(),\n",
        "                                          bias_initializer=self.weight_initialization())\n",
        "        self.drop2 = tf.keras.layers.Dropout(0.2)\n",
        "\n",
        "        # 결과는 5개\n",
        "        self.result = tf.keras.layers.Dense(12,\n",
        "                                            activation=None,\n",
        "                                            kernel_initializer=self.weight_initialization(),\n",
        "                                            bias_initializer=self.weight_initialization())\n",
        "\n",
        "    def weight_initialization(self):\n",
        "        return tf.keras.initializers.RandomNormal(mean=0., stddev=1.)\n",
        "\n",
        "    def call(self, x, training=False):  # Forward pass\n",
        "        y1 = self.hid1(x)\n",
        "        d1 = self.drop1(y1, training=training)\n",
        "        y2 = self.hid2(d1)\n",
        "        d2 = self.drop2(y2, training=training)\n",
        "        logits = self.result(d2)\n",
        "        sy = tf.nn.softmax(logits)\n",
        "        return logits, sy"
      ],
      "metadata": {
        "colab": {
          "base_uri": "https://localhost:8080/"
        },
        "id": "D0VkEi96iLzv",
        "outputId": "8dda097a-8720-46e9-bc48-fb77135b5fe8"
      },
      "execution_count": 16,
      "outputs": [
        {
          "output_type": "stream",
          "name": "stdout",
          "text": [
            "2.17.0\n"
          ]
        }
      ]
    },
    {
      "cell_type": "code",
      "source": [
        "# Loss function\n",
        "@tf.function\n",
        "def cross_entropy_loss(logits, y):\n",
        "    return tf.reduce_mean(tf.nn.softmax_cross_entropy_with_logits(logits=logits, labels=y))\n",
        "\n",
        "# Optimizer and backward pass\n",
        "learningRate = 0.001\n",
        "optimizer = tf.optimizers.Adagrad(learningRate)\n",
        "\n",
        "@tf.function\n",
        "def backward(model, x, y):\n",
        "    with tf.GradientTape() as grad:\n",
        "        logits, sy = model(x, training=True)\n",
        "        loss = cross_entropy_loss(logits, y)\n",
        "    grads = grad.gradient(loss, model.trainable_variables)\n",
        "    optimizer.apply_gradients(zip(grads, model.trainable_variables))\n",
        "    return loss\n",
        "\n",
        "# Accuracy function\n",
        "@tf.function\n",
        "def accuracy(predY, y):\n",
        "    correct_predictions = tf.equal(tf.argmax(predY, axis=1), tf.argmax(y, axis=1))\n",
        "    acc = tf.reduce_mean(tf.cast(correct_predictions, tf.float32))\n",
        "    return acc"
      ],
      "metadata": {
        "id": "JuCZXxIzirBA"
      },
      "execution_count": 17,
      "outputs": []
    },
    {
      "cell_type": "code",
      "source": [
        "# 훈련 데이터 함수\n",
        "def train_learning(epochs, frequency, trainDataIter, model, XTest, yTest):\n",
        "    y_loss = []\n",
        "    for epoch in tqdm(range(epochs)):\n",
        "        bx, by = next(trainDataIter)\n",
        "        loss = backward(model, bx, by)\n",
        "        y_loss.append(loss)\n",
        "        if epoch % frequency == 0:\n",
        "            predY, sy = model(bx, training=False)\n",
        "            acc = accuracy(predY, by)\n",
        "            print(f\"Epoch: {epoch+1} ===> Loss: {loss:.4f}, Accuracy: {acc:.4f}\")\n",
        "    predY, sy = model(XTest, training=False)\n",
        "    acc = accuracy(predY, yTest)\n",
        "    print(f\"Test Accuracy: {acc:.4f}\")\n",
        "    return y_loss"
      ],
      "metadata": {
        "id": "wZ2PaQ9eiwAl"
      },
      "execution_count": 18,
      "outputs": []
    },
    {
      "cell_type": "code",
      "execution_count": 19,
      "metadata": {
        "colab": {
          "base_uri": "https://localhost:8080/"
        },
        "id": "2FRzi2BwgPf_",
        "outputId": "70d618b5-30e2-4a39-fb52-1b3cb5edb9fc"
      },
      "outputs": [
        {
          "output_type": "stream",
          "name": "stderr",
          "text": [
            "  0%|          | 1/20000 [00:00<4:45:44,  1.17it/s]"
          ]
        },
        {
          "output_type": "stream",
          "name": "stdout",
          "text": [
            "Epoch: 1 ===> Loss: 99.9701, Accuracy: 0.0367\n"
          ]
        },
        {
          "output_type": "stream",
          "name": "stderr",
          "text": [
            "  1%|          | 213/20000 [00:01<01:23, 237.87it/s]"
          ]
        },
        {
          "output_type": "stream",
          "name": "stdout",
          "text": [
            "Epoch: 151 ===> Loss: 81.2711, Accuracy: 0.0233\n"
          ]
        },
        {
          "output_type": "stream",
          "name": "stderr",
          "text": [
            "  2%|▏         | 342/20000 [00:02<01:09, 282.39it/s]"
          ]
        },
        {
          "output_type": "stream",
          "name": "stdout",
          "text": [
            "Epoch: 301 ===> Loss: 77.8564, Accuracy: 0.0133\n"
          ]
        },
        {
          "output_type": "stream",
          "name": "stderr",
          "text": [
            "  2%|▏         | 499/20000 [00:02<01:06, 291.57it/s]"
          ]
        },
        {
          "output_type": "stream",
          "name": "stdout",
          "text": [
            "Epoch: 451 ===> Loss: 68.8918, Accuracy: 0.0267\n"
          ]
        },
        {
          "output_type": "stream",
          "name": "stderr",
          "text": [
            "  3%|▎         | 633/20000 [00:03<01:02, 309.41it/s]"
          ]
        },
        {
          "output_type": "stream",
          "name": "stdout",
          "text": [
            "Epoch: 601 ===> Loss: 64.1944, Accuracy: 0.0667\n"
          ]
        },
        {
          "output_type": "stream",
          "name": "stderr",
          "text": [
            "  4%|▍         | 799/20000 [00:03<01:03, 302.10it/s]"
          ]
        },
        {
          "output_type": "stream",
          "name": "stdout",
          "text": [
            "Epoch: 751 ===> Loss: 60.7551, Accuracy: 0.0500\n"
          ]
        },
        {
          "output_type": "stream",
          "name": "stderr",
          "text": [
            "  5%|▍         | 961/20000 [00:04<01:02, 305.42it/s]"
          ]
        },
        {
          "output_type": "stream",
          "name": "stdout",
          "text": [
            "Epoch: 901 ===> Loss: 56.8980, Accuracy: 0.0500\n"
          ]
        },
        {
          "output_type": "stream",
          "name": "stderr",
          "text": [
            "  5%|▌         | 1086/20000 [00:04<01:05, 289.30it/s]"
          ]
        },
        {
          "output_type": "stream",
          "name": "stdout",
          "text": [
            "Epoch: 1051 ===> Loss: 58.4541, Accuracy: 0.0600\n"
          ]
        },
        {
          "output_type": "stream",
          "name": "stderr",
          "text": [
            "  6%|▋         | 1252/20000 [00:05<00:58, 323.20it/s]"
          ]
        },
        {
          "output_type": "stream",
          "name": "stdout",
          "text": [
            "Epoch: 1201 ===> Loss: 54.4238, Accuracy: 0.0700\n"
          ]
        },
        {
          "output_type": "stream",
          "name": "stderr",
          "text": [
            "  7%|▋         | 1382/20000 [00:05<00:59, 314.48it/s]"
          ]
        },
        {
          "output_type": "stream",
          "name": "stdout",
          "text": [
            "Epoch: 1351 ===> Loss: 51.0945, Accuracy: 0.0933\n"
          ]
        },
        {
          "output_type": "stream",
          "name": "stderr",
          "text": [
            "  8%|▊         | 1551/20000 [00:06<00:59, 311.46it/s]"
          ]
        },
        {
          "output_type": "stream",
          "name": "stdout",
          "text": [
            "Epoch: 1501 ===> Loss: 49.1788, Accuracy: 0.1000\n"
          ]
        },
        {
          "output_type": "stream",
          "name": "stderr",
          "text": [
            "  8%|▊         | 1676/20000 [00:06<01:26, 210.81it/s]"
          ]
        },
        {
          "output_type": "stream",
          "name": "stdout",
          "text": [
            "Epoch: 1651 ===> Loss: 50.3748, Accuracy: 0.0933\n"
          ]
        },
        {
          "output_type": "stream",
          "name": "stderr",
          "text": [
            "  9%|▉         | 1836/20000 [00:07<01:10, 257.28it/s]"
          ]
        },
        {
          "output_type": "stream",
          "name": "stdout",
          "text": [
            "Epoch: 1801 ===> Loss: 50.2437, Accuracy: 0.0867\n"
          ]
        },
        {
          "output_type": "stream",
          "name": "stderr",
          "text": [
            " 10%|▉         | 1986/20000 [00:08<01:19, 226.94it/s]"
          ]
        },
        {
          "output_type": "stream",
          "name": "stdout",
          "text": [
            "Epoch: 1951 ===> Loss: 46.2256, Accuracy: 0.1100\n"
          ]
        },
        {
          "output_type": "stream",
          "name": "stderr",
          "text": [
            " 11%|█         | 2138/20000 [00:08<01:35, 186.44it/s]"
          ]
        },
        {
          "output_type": "stream",
          "name": "stdout",
          "text": [
            "Epoch: 2101 ===> Loss: 41.1444, Accuracy: 0.1267\n"
          ]
        },
        {
          "output_type": "stream",
          "name": "stderr",
          "text": [
            " 11%|█▏        | 2285/20000 [00:09<01:30, 195.95it/s]"
          ]
        },
        {
          "output_type": "stream",
          "name": "stdout",
          "text": [
            "Epoch: 2251 ===> Loss: 41.1256, Accuracy: 0.1300\n"
          ]
        },
        {
          "output_type": "stream",
          "name": "stderr",
          "text": [
            " 12%|█▏        | 2438/20000 [00:10<01:29, 195.46it/s]"
          ]
        },
        {
          "output_type": "stream",
          "name": "stdout",
          "text": [
            "Epoch: 2401 ===> Loss: 45.6510, Accuracy: 0.1133\n"
          ]
        },
        {
          "output_type": "stream",
          "name": "stderr",
          "text": [
            " 13%|█▎        | 2573/20000 [00:11<01:39, 175.72it/s]"
          ]
        },
        {
          "output_type": "stream",
          "name": "stdout",
          "text": [
            "Epoch: 2551 ===> Loss: 39.8074, Accuracy: 0.1333\n"
          ]
        },
        {
          "output_type": "stream",
          "name": "stderr",
          "text": [
            " 14%|█▎        | 2719/20000 [00:11<01:41, 171.08it/s]"
          ]
        },
        {
          "output_type": "stream",
          "name": "stdout",
          "text": [
            "Epoch: 2701 ===> Loss: 42.6218, Accuracy: 0.1333\n"
          ]
        },
        {
          "output_type": "stream",
          "name": "stderr",
          "text": [
            " 14%|█▍        | 2875/20000 [00:12<01:45, 162.29it/s]"
          ]
        },
        {
          "output_type": "stream",
          "name": "stdout",
          "text": [
            "Epoch: 2851 ===> Loss: 39.0814, Accuracy: 0.1533\n"
          ]
        },
        {
          "output_type": "stream",
          "name": "stderr",
          "text": [
            " 15%|█▌        | 3044/20000 [00:13<00:59, 284.67it/s]"
          ]
        },
        {
          "output_type": "stream",
          "name": "stdout",
          "text": [
            "Epoch: 3001 ===> Loss: 40.1087, Accuracy: 0.1367\n"
          ]
        },
        {
          "output_type": "stream",
          "name": "stderr",
          "text": [
            " 16%|█▌        | 3208/20000 [00:14<00:53, 315.88it/s]"
          ]
        },
        {
          "output_type": "stream",
          "name": "stdout",
          "text": [
            "Epoch: 3151 ===> Loss: 39.6164, Accuracy: 0.1867\n"
          ]
        },
        {
          "output_type": "stream",
          "name": "stderr",
          "text": [
            " 17%|█▋        | 3338/20000 [00:14<00:55, 299.52it/s]"
          ]
        },
        {
          "output_type": "stream",
          "name": "stdout",
          "text": [
            "Epoch: 3301 ===> Loss: 40.1232, Accuracy: 0.1267\n"
          ]
        },
        {
          "output_type": "stream",
          "name": "stderr",
          "text": [
            " 17%|█▋        | 3494/20000 [00:15<00:54, 304.50it/s]"
          ]
        },
        {
          "output_type": "stream",
          "name": "stdout",
          "text": [
            "Epoch: 3451 ===> Loss: 40.9211, Accuracy: 0.2000\n"
          ]
        },
        {
          "output_type": "stream",
          "name": "stderr",
          "text": [
            " 18%|█▊        | 3657/20000 [00:15<00:51, 316.41it/s]"
          ]
        },
        {
          "output_type": "stream",
          "name": "stdout",
          "text": [
            "Epoch: 3601 ===> Loss: 37.8928, Accuracy: 0.1967\n"
          ]
        },
        {
          "output_type": "stream",
          "name": "stderr",
          "text": [
            " 19%|█▉        | 3786/20000 [00:16<00:52, 307.41it/s]"
          ]
        },
        {
          "output_type": "stream",
          "name": "stdout",
          "text": [
            "Epoch: 3751 ===> Loss: 37.5189, Accuracy: 0.1533\n"
          ]
        },
        {
          "output_type": "stream",
          "name": "stderr",
          "text": [
            " 20%|█▉        | 3957/20000 [00:16<00:48, 330.95it/s]"
          ]
        },
        {
          "output_type": "stream",
          "name": "stdout",
          "text": [
            "Epoch: 3901 ===> Loss: 34.4204, Accuracy: 0.2200\n"
          ]
        },
        {
          "output_type": "stream",
          "name": "stderr",
          "text": [
            " 20%|██        | 4090/20000 [00:16<00:51, 311.23it/s]"
          ]
        },
        {
          "output_type": "stream",
          "name": "stdout",
          "text": [
            "Epoch: 4051 ===> Loss: 34.5759, Accuracy: 0.2233\n"
          ]
        },
        {
          "output_type": "stream",
          "name": "stderr",
          "text": [
            " 21%|██▏       | 4267/20000 [00:17<00:47, 333.53it/s]"
          ]
        },
        {
          "output_type": "stream",
          "name": "stdout",
          "text": [
            "Epoch: 4201 ===> Loss: 35.9025, Accuracy: 0.1900\n"
          ]
        },
        {
          "output_type": "stream",
          "name": "stderr",
          "text": [
            " 22%|██▏       | 4401/20000 [00:17<00:49, 312.51it/s]"
          ]
        },
        {
          "output_type": "stream",
          "name": "stdout",
          "text": [
            "Epoch: 4351 ===> Loss: 36.2083, Accuracy: 0.2450\n"
          ]
        },
        {
          "output_type": "stream",
          "name": "stderr",
          "text": [
            " 23%|██▎       | 4534/20000 [00:18<00:48, 318.70it/s]"
          ]
        },
        {
          "output_type": "stream",
          "name": "stdout",
          "text": [
            "Epoch: 4501 ===> Loss: 33.2642, Accuracy: 0.1833\n"
          ]
        },
        {
          "output_type": "stream",
          "name": "stderr",
          "text": [
            " 24%|██▎       | 4701/20000 [00:18<00:50, 303.01it/s]"
          ]
        },
        {
          "output_type": "stream",
          "name": "stdout",
          "text": [
            "Epoch: 4651 ===> Loss: 36.7697, Accuracy: 0.2400\n"
          ]
        },
        {
          "output_type": "stream",
          "name": "stderr",
          "text": [
            " 24%|██▍       | 4840/20000 [00:19<00:45, 330.96it/s]"
          ]
        },
        {
          "output_type": "stream",
          "name": "stdout",
          "text": [
            "Epoch: 4801 ===> Loss: 33.4029, Accuracy: 0.1967\n"
          ]
        },
        {
          "output_type": "stream",
          "name": "stderr",
          "text": [
            " 25%|██▌       | 5006/20000 [00:19<00:50, 299.31it/s]"
          ]
        },
        {
          "output_type": "stream",
          "name": "stdout",
          "text": [
            "Epoch: 4951 ===> Loss: 37.4014, Accuracy: 0.1967\n"
          ]
        },
        {
          "output_type": "stream",
          "name": "stderr",
          "text": [
            " 26%|██▌       | 5135/20000 [00:20<00:47, 309.92it/s]"
          ]
        },
        {
          "output_type": "stream",
          "name": "stdout",
          "text": [
            "Epoch: 5101 ===> Loss: 32.5442, Accuracy: 0.1967\n"
          ]
        },
        {
          "output_type": "stream",
          "name": "stderr",
          "text": [
            " 26%|██▋       | 5297/20000 [00:20<00:48, 301.81it/s]"
          ]
        },
        {
          "output_type": "stream",
          "name": "stdout",
          "text": [
            "Epoch: 5251 ===> Loss: 32.7846, Accuracy: 0.2067\n"
          ]
        },
        {
          "output_type": "stream",
          "name": "stderr",
          "text": [
            " 27%|██▋       | 5458/20000 [00:21<00:46, 315.17it/s]"
          ]
        },
        {
          "output_type": "stream",
          "name": "stdout",
          "text": [
            "Epoch: 5401 ===> Loss: 34.4052, Accuracy: 0.1967\n"
          ]
        },
        {
          "output_type": "stream",
          "name": "stderr",
          "text": [
            " 28%|██▊       | 5581/20000 [00:21<00:49, 291.15it/s]"
          ]
        },
        {
          "output_type": "stream",
          "name": "stdout",
          "text": [
            "Epoch: 5551 ===> Loss: 32.7505, Accuracy: 0.2233\n"
          ]
        },
        {
          "output_type": "stream",
          "name": "stderr",
          "text": [
            " 29%|██▊       | 5743/20000 [00:22<00:45, 316.67it/s]"
          ]
        },
        {
          "output_type": "stream",
          "name": "stdout",
          "text": [
            "Epoch: 5701 ===> Loss: 32.0215, Accuracy: 0.2433\n"
          ]
        },
        {
          "output_type": "stream",
          "name": "stderr",
          "text": [
            " 29%|██▉       | 5878/20000 [00:22<00:46, 301.01it/s]"
          ]
        },
        {
          "output_type": "stream",
          "name": "stdout",
          "text": [
            "Epoch: 5851 ===> Loss: 29.7704, Accuracy: 0.2267\n"
          ]
        },
        {
          "output_type": "stream",
          "name": "stderr",
          "text": [
            " 30%|███       | 6037/20000 [00:23<00:47, 291.92it/s]"
          ]
        },
        {
          "output_type": "stream",
          "name": "stdout",
          "text": [
            "Epoch: 6001 ===> Loss: 32.2180, Accuracy: 0.2500\n"
          ]
        },
        {
          "output_type": "stream",
          "name": "stderr",
          "text": [
            " 31%|███       | 6186/20000 [00:24<01:11, 192.08it/s]"
          ]
        },
        {
          "output_type": "stream",
          "name": "stdout",
          "text": [
            "Epoch: 6151 ===> Loss: 33.6866, Accuracy: 0.2067\n"
          ]
        },
        {
          "output_type": "stream",
          "name": "stderr",
          "text": [
            " 32%|███▏      | 6324/20000 [00:24<01:16, 178.31it/s]"
          ]
        },
        {
          "output_type": "stream",
          "name": "stdout",
          "text": [
            "Epoch: 6301 ===> Loss: 29.2552, Accuracy: 0.2567\n"
          ]
        },
        {
          "output_type": "stream",
          "name": "stderr",
          "text": [
            " 32%|███▏      | 6481/20000 [00:25<01:19, 169.64it/s]"
          ]
        },
        {
          "output_type": "stream",
          "name": "stdout",
          "text": [
            "Epoch: 6451 ===> Loss: 31.8445, Accuracy: 0.2100\n"
          ]
        },
        {
          "output_type": "stream",
          "name": "stderr",
          "text": [
            " 33%|███▎      | 6635/20000 [00:26<01:14, 179.45it/s]"
          ]
        },
        {
          "output_type": "stream",
          "name": "stdout",
          "text": [
            "Epoch: 6601 ===> Loss: 32.1976, Accuracy: 0.2367\n"
          ]
        },
        {
          "output_type": "stream",
          "name": "stderr",
          "text": [
            " 34%|███▍      | 6769/20000 [00:27<01:19, 166.55it/s]"
          ]
        },
        {
          "output_type": "stream",
          "name": "stdout",
          "text": [
            "Epoch: 6751 ===> Loss: 31.1565, Accuracy: 0.1733\n"
          ]
        },
        {
          "output_type": "stream",
          "name": "stderr",
          "text": [
            " 35%|███▍      | 6949/20000 [00:28<00:58, 223.07it/s]"
          ]
        },
        {
          "output_type": "stream",
          "name": "stdout",
          "text": [
            "Epoch: 6901 ===> Loss: 30.6280, Accuracy: 0.2067\n"
          ]
        },
        {
          "output_type": "stream",
          "name": "stderr",
          "text": [
            " 35%|███▌      | 7098/20000 [00:28<00:45, 280.52it/s]"
          ]
        },
        {
          "output_type": "stream",
          "name": "stdout",
          "text": [
            "Epoch: 7051 ===> Loss: 30.8949, Accuracy: 0.2367\n"
          ]
        },
        {
          "output_type": "stream",
          "name": "stderr",
          "text": [
            " 36%|███▋      | 7265/20000 [00:29<00:39, 321.85it/s]"
          ]
        },
        {
          "output_type": "stream",
          "name": "stdout",
          "text": [
            "Epoch: 7201 ===> Loss: 27.4649, Accuracy: 0.2400\n"
          ]
        },
        {
          "output_type": "stream",
          "name": "stderr",
          "text": [
            " 37%|███▋      | 7395/20000 [00:29<00:41, 306.35it/s]"
          ]
        },
        {
          "output_type": "stream",
          "name": "stdout",
          "text": [
            "Epoch: 7351 ===> Loss: 31.2466, Accuracy: 0.2367\n"
          ]
        },
        {
          "output_type": "stream",
          "name": "stderr",
          "text": [
            " 38%|███▊      | 7567/20000 [00:30<00:36, 339.26it/s]"
          ]
        },
        {
          "output_type": "stream",
          "name": "stdout",
          "text": [
            "Epoch: 7501 ===> Loss: 28.8664, Accuracy: 0.2233\n"
          ]
        },
        {
          "output_type": "stream",
          "name": "stderr",
          "text": [
            " 39%|███▊      | 7702/20000 [00:30<00:38, 317.99it/s]"
          ]
        },
        {
          "output_type": "stream",
          "name": "stdout",
          "text": [
            "Epoch: 7651 ===> Loss: 27.1012, Accuracy: 0.2333\n"
          ]
        },
        {
          "output_type": "stream",
          "name": "stderr",
          "text": [
            " 39%|███▉      | 7837/20000 [00:31<00:36, 331.13it/s]"
          ]
        },
        {
          "output_type": "stream",
          "name": "stdout",
          "text": [
            "Epoch: 7801 ===> Loss: 25.9847, Accuracy: 0.2000\n"
          ]
        },
        {
          "output_type": "stream",
          "name": "stderr",
          "text": [
            " 40%|████      | 8010/20000 [00:31<00:37, 321.15it/s]"
          ]
        },
        {
          "output_type": "stream",
          "name": "stdout",
          "text": [
            "Epoch: 7951 ===> Loss: 27.2113, Accuracy: 0.2333\n"
          ]
        },
        {
          "output_type": "stream",
          "name": "stderr",
          "text": [
            " 41%|████      | 8144/20000 [00:32<00:37, 316.43it/s]"
          ]
        },
        {
          "output_type": "stream",
          "name": "stdout",
          "text": [
            "Epoch: 8101 ===> Loss: 28.4119, Accuracy: 0.2300\n"
          ]
        },
        {
          "output_type": "stream",
          "name": "stderr",
          "text": [
            " 41%|████▏     | 8283/20000 [00:32<00:36, 317.64it/s]"
          ]
        },
        {
          "output_type": "stream",
          "name": "stdout",
          "text": [
            "Epoch: 8251 ===> Loss: 28.0423, Accuracy: 0.2367\n"
          ]
        },
        {
          "output_type": "stream",
          "name": "stderr",
          "text": [
            " 42%|████▏     | 8447/20000 [00:32<00:36, 316.32it/s]"
          ]
        },
        {
          "output_type": "stream",
          "name": "stdout",
          "text": [
            "Epoch: 8401 ===> Loss: 29.4131, Accuracy: 0.2200\n"
          ]
        },
        {
          "output_type": "stream",
          "name": "stderr",
          "text": [
            " 43%|████▎     | 8585/20000 [00:33<00:34, 329.52it/s]"
          ]
        },
        {
          "output_type": "stream",
          "name": "stdout",
          "text": [
            "Epoch: 8551 ===> Loss: 26.9248, Accuracy: 0.2167\n"
          ]
        },
        {
          "output_type": "stream",
          "name": "stderr",
          "text": [
            " 44%|████▍     | 8752/20000 [00:33<00:34, 324.25it/s]"
          ]
        },
        {
          "output_type": "stream",
          "name": "stdout",
          "text": [
            "Epoch: 8701 ===> Loss: 28.4267, Accuracy: 0.2567\n"
          ]
        },
        {
          "output_type": "stream",
          "name": "stderr",
          "text": [
            " 44%|████▍     | 8888/20000 [00:34<00:33, 327.53it/s]"
          ]
        },
        {
          "output_type": "stream",
          "name": "stdout",
          "text": [
            "Epoch: 8851 ===> Loss: 27.9738, Accuracy: 0.2400\n"
          ]
        },
        {
          "output_type": "stream",
          "name": "stderr",
          "text": [
            " 45%|████▌     | 9049/20000 [00:34<00:36, 301.93it/s]"
          ]
        },
        {
          "output_type": "stream",
          "name": "stdout",
          "text": [
            "Epoch: 9001 ===> Loss: 26.4250, Accuracy: 0.2067\n"
          ]
        },
        {
          "output_type": "stream",
          "name": "stderr",
          "text": [
            " 46%|████▌     | 9186/20000 [00:35<00:32, 330.26it/s]"
          ]
        },
        {
          "output_type": "stream",
          "name": "stdout",
          "text": [
            "Epoch: 9151 ===> Loss: 26.4010, Accuracy: 0.2533\n"
          ]
        },
        {
          "output_type": "stream",
          "name": "stderr",
          "text": [
            " 47%|████▋     | 9356/20000 [00:35<00:35, 302.58it/s]"
          ]
        },
        {
          "output_type": "stream",
          "name": "stdout",
          "text": [
            "Epoch: 9301 ===> Loss: 28.0393, Accuracy: 0.2500\n"
          ]
        },
        {
          "output_type": "stream",
          "name": "stderr",
          "text": [
            " 47%|████▋     | 9488/20000 [00:36<00:33, 316.88it/s]"
          ]
        },
        {
          "output_type": "stream",
          "name": "stdout",
          "text": [
            "Epoch: 9451 ===> Loss: 27.2807, Accuracy: 0.2200\n"
          ]
        },
        {
          "output_type": "stream",
          "name": "stderr",
          "text": [
            " 48%|████▊     | 9658/20000 [00:36<00:34, 302.09it/s]"
          ]
        },
        {
          "output_type": "stream",
          "name": "stdout",
          "text": [
            "Epoch: 9601 ===> Loss: 26.9151, Accuracy: 0.2700\n"
          ]
        },
        {
          "output_type": "stream",
          "name": "stderr",
          "text": [
            " 49%|████▉     | 9793/20000 [00:37<00:31, 325.23it/s]"
          ]
        },
        {
          "output_type": "stream",
          "name": "stdout",
          "text": [
            "Epoch: 9751 ===> Loss: 25.1808, Accuracy: 0.2233\n"
          ]
        },
        {
          "output_type": "stream",
          "name": "stderr",
          "text": [
            " 50%|████▉     | 9928/20000 [00:37<00:33, 297.60it/s]"
          ]
        },
        {
          "output_type": "stream",
          "name": "stdout",
          "text": [
            "Epoch: 9901 ===> Loss: 26.4404, Accuracy: 0.2133\n"
          ]
        },
        {
          "output_type": "stream",
          "name": "stderr",
          "text": [
            " 50%|█████     | 10093/20000 [00:38<00:34, 291.33it/s]"
          ]
        },
        {
          "output_type": "stream",
          "name": "stdout",
          "text": [
            "Epoch: 10051 ===> Loss: 27.7203, Accuracy: 0.2650\n"
          ]
        },
        {
          "output_type": "stream",
          "name": "stderr",
          "text": [
            " 51%|█████     | 10223/20000 [00:38<00:49, 197.40it/s]"
          ]
        },
        {
          "output_type": "stream",
          "name": "stdout",
          "text": [
            "Epoch: 10201 ===> Loss: 24.4854, Accuracy: 0.2567\n"
          ]
        },
        {
          "output_type": "stream",
          "name": "stderr",
          "text": [
            " 52%|█████▏    | 10381/20000 [00:39<00:55, 173.05it/s]"
          ]
        },
        {
          "output_type": "stream",
          "name": "stdout",
          "text": [
            "Epoch: 10351 ===> Loss: 25.8155, Accuracy: 0.2600\n"
          ]
        },
        {
          "output_type": "stream",
          "name": "stderr",
          "text": [
            " 53%|█████▎    | 10535/20000 [00:40<00:51, 185.59it/s]"
          ]
        },
        {
          "output_type": "stream",
          "name": "stdout",
          "text": [
            "Epoch: 10501 ===> Loss: 22.8251, Accuracy: 0.2800\n"
          ]
        },
        {
          "output_type": "stream",
          "name": "stderr",
          "text": [
            " 53%|█████▎    | 10675/20000 [00:41<00:54, 172.61it/s]"
          ]
        },
        {
          "output_type": "stream",
          "name": "stdout",
          "text": [
            "Epoch: 10651 ===> Loss: 23.1903, Accuracy: 0.2567\n"
          ]
        },
        {
          "output_type": "stream",
          "name": "stderr",
          "text": [
            " 54%|█████▍    | 10828/20000 [00:42<00:53, 172.54it/s]"
          ]
        },
        {
          "output_type": "stream",
          "name": "stdout",
          "text": [
            "Epoch: 10801 ===> Loss: 24.5299, Accuracy: 0.2267\n"
          ]
        },
        {
          "output_type": "stream",
          "name": "stderr",
          "text": [
            " 55%|█████▍    | 10972/20000 [00:43<00:50, 178.24it/s]"
          ]
        },
        {
          "output_type": "stream",
          "name": "stdout",
          "text": [
            "Epoch: 10951 ===> Loss: 24.2904, Accuracy: 0.2900\n"
          ]
        },
        {
          "output_type": "stream",
          "name": "stderr",
          "text": [
            " 56%|█████▌    | 11144/20000 [00:43<00:33, 263.18it/s]"
          ]
        },
        {
          "output_type": "stream",
          "name": "stdout",
          "text": [
            "Epoch: 11101 ===> Loss: 25.6767, Accuracy: 0.2967\n"
          ]
        },
        {
          "output_type": "stream",
          "name": "stderr",
          "text": [
            " 57%|█████▋    | 11303/20000 [00:44<00:28, 307.18it/s]"
          ]
        },
        {
          "output_type": "stream",
          "name": "stdout",
          "text": [
            "Epoch: 11251 ===> Loss: 24.6567, Accuracy: 0.2867\n"
          ]
        },
        {
          "output_type": "stream",
          "name": "stderr",
          "text": [
            " 57%|█████▋    | 11461/20000 [00:44<00:27, 307.65it/s]"
          ]
        },
        {
          "output_type": "stream",
          "name": "stdout",
          "text": [
            "Epoch: 11401 ===> Loss: 23.3653, Accuracy: 0.2533\n"
          ]
        },
        {
          "output_type": "stream",
          "name": "stderr",
          "text": [
            " 58%|█████▊    | 11589/20000 [00:45<00:26, 312.11it/s]"
          ]
        },
        {
          "output_type": "stream",
          "name": "stdout",
          "text": [
            "Epoch: 11551 ===> Loss: 24.6063, Accuracy: 0.2733\n"
          ]
        },
        {
          "output_type": "stream",
          "name": "stderr",
          "text": [
            " 59%|█████▉    | 11753/20000 [00:45<00:27, 302.44it/s]"
          ]
        },
        {
          "output_type": "stream",
          "name": "stdout",
          "text": [
            "Epoch: 11701 ===> Loss: 23.8065, Accuracy: 0.2467\n"
          ]
        },
        {
          "output_type": "stream",
          "name": "stderr",
          "text": [
            " 60%|█████▉    | 11912/20000 [00:46<00:25, 314.97it/s]"
          ]
        },
        {
          "output_type": "stream",
          "name": "stdout",
          "text": [
            "Epoch: 11851 ===> Loss: 22.0362, Accuracy: 0.2400\n"
          ]
        },
        {
          "output_type": "stream",
          "name": "stderr",
          "text": [
            " 60%|██████    | 12039/20000 [00:46<00:26, 301.39it/s]"
          ]
        },
        {
          "output_type": "stream",
          "name": "stdout",
          "text": [
            "Epoch: 12001 ===> Loss: 24.6297, Accuracy: 0.2700\n"
          ]
        },
        {
          "output_type": "stream",
          "name": "stderr",
          "text": [
            " 61%|██████    | 12204/20000 [00:47<00:24, 317.92it/s]"
          ]
        },
        {
          "output_type": "stream",
          "name": "stdout",
          "text": [
            "Epoch: 12151 ===> Loss: 23.0709, Accuracy: 0.2233\n"
          ]
        },
        {
          "output_type": "stream",
          "name": "stderr",
          "text": [
            " 62%|██████▏   | 12335/20000 [00:47<00:24, 311.30it/s]"
          ]
        },
        {
          "output_type": "stream",
          "name": "stdout",
          "text": [
            "Epoch: 12301 ===> Loss: 23.8604, Accuracy: 0.2433\n"
          ]
        },
        {
          "output_type": "stream",
          "name": "stderr",
          "text": [
            " 63%|██████▎   | 12507/20000 [00:48<00:23, 320.33it/s]"
          ]
        },
        {
          "output_type": "stream",
          "name": "stdout",
          "text": [
            "Epoch: 12451 ===> Loss: 21.9365, Accuracy: 0.2633\n"
          ]
        },
        {
          "output_type": "stream",
          "name": "stderr",
          "text": [
            " 63%|██████▎   | 12642/20000 [00:48<00:23, 312.68it/s]"
          ]
        },
        {
          "output_type": "stream",
          "name": "stdout",
          "text": [
            "Epoch: 12601 ===> Loss: 23.0409, Accuracy: 0.2633\n"
          ]
        },
        {
          "output_type": "stream",
          "name": "stderr",
          "text": [
            " 64%|██████▍   | 12804/20000 [00:49<00:23, 306.86it/s]"
          ]
        },
        {
          "output_type": "stream",
          "name": "stdout",
          "text": [
            "Epoch: 12751 ===> Loss: 23.3919, Accuracy: 0.2667\n"
          ]
        },
        {
          "output_type": "stream",
          "name": "stderr",
          "text": [
            " 65%|██████▍   | 12932/20000 [00:49<00:23, 299.30it/s]"
          ]
        },
        {
          "output_type": "stream",
          "name": "stdout",
          "text": [
            "Epoch: 12901 ===> Loss: 23.9825, Accuracy: 0.2750\n"
          ]
        },
        {
          "output_type": "stream",
          "name": "stderr",
          "text": [
            " 65%|██████▌   | 13094/20000 [00:50<00:21, 315.54it/s]"
          ]
        },
        {
          "output_type": "stream",
          "name": "stdout",
          "text": [
            "Epoch: 13051 ===> Loss: 23.2799, Accuracy: 0.3000\n"
          ]
        },
        {
          "output_type": "stream",
          "name": "stderr",
          "text": [
            " 66%|██████▌   | 13224/20000 [00:50<00:21, 309.03it/s]"
          ]
        },
        {
          "output_type": "stream",
          "name": "stdout",
          "text": [
            "Epoch: 13201 ===> Loss: 21.2315, Accuracy: 0.2667\n"
          ]
        },
        {
          "output_type": "stream",
          "name": "stderr",
          "text": [
            " 67%|██████▋   | 13385/20000 [00:51<00:21, 304.87it/s]"
          ]
        },
        {
          "output_type": "stream",
          "name": "stdout",
          "text": [
            "Epoch: 13351 ===> Loss: 21.3895, Accuracy: 0.2767\n"
          ]
        },
        {
          "output_type": "stream",
          "name": "stderr",
          "text": [
            " 68%|██████▊   | 13545/20000 [00:51<00:21, 296.30it/s]"
          ]
        },
        {
          "output_type": "stream",
          "name": "stdout",
          "text": [
            "Epoch: 13501 ===> Loss: 23.1551, Accuracy: 0.2633\n"
          ]
        },
        {
          "output_type": "stream",
          "name": "stderr",
          "text": [
            " 69%|██████▊   | 13711/20000 [00:52<00:19, 324.54it/s]"
          ]
        },
        {
          "output_type": "stream",
          "name": "stdout",
          "text": [
            "Epoch: 13651 ===> Loss: 22.5251, Accuracy: 0.2333\n"
          ]
        },
        {
          "output_type": "stream",
          "name": "stderr",
          "text": [
            " 69%|██████▉   | 13838/20000 [00:52<00:20, 302.64it/s]"
          ]
        },
        {
          "output_type": "stream",
          "name": "stdout",
          "text": [
            "Epoch: 13801 ===> Loss: 20.1277, Accuracy: 0.2600\n"
          ]
        },
        {
          "output_type": "stream",
          "name": "stderr",
          "text": [
            " 70%|██████▉   | 13997/20000 [00:53<00:19, 306.89it/s]"
          ]
        },
        {
          "output_type": "stream",
          "name": "stdout",
          "text": [
            "Epoch: 13951 ===> Loss: 21.9285, Accuracy: 0.2500\n"
          ]
        },
        {
          "output_type": "stream",
          "name": "stderr",
          "text": [
            " 71%|███████   | 14127/20000 [00:53<00:22, 256.29it/s]"
          ]
        },
        {
          "output_type": "stream",
          "name": "stdout",
          "text": [
            "Epoch: 14101 ===> Loss: 24.5157, Accuracy: 0.3000\n"
          ]
        },
        {
          "output_type": "stream",
          "name": "stderr",
          "text": [
            " 71%|███████▏  | 14271/20000 [00:54<00:30, 189.09it/s]"
          ]
        },
        {
          "output_type": "stream",
          "name": "stdout",
          "text": [
            "Epoch: 14251 ===> Loss: 22.5438, Accuracy: 0.2633\n"
          ]
        },
        {
          "output_type": "stream",
          "name": "stderr",
          "text": [
            " 72%|███████▏  | 14427/20000 [00:55<00:29, 188.35it/s]"
          ]
        },
        {
          "output_type": "stream",
          "name": "stdout",
          "text": [
            "Epoch: 14401 ===> Loss: 18.3778, Accuracy: 0.2733\n"
          ]
        },
        {
          "output_type": "stream",
          "name": "stderr",
          "text": [
            " 73%|███████▎  | 14582/20000 [00:56<00:29, 182.20it/s]"
          ]
        },
        {
          "output_type": "stream",
          "name": "stdout",
          "text": [
            "Epoch: 14551 ===> Loss: 22.5782, Accuracy: 0.2633\n"
          ]
        },
        {
          "output_type": "stream",
          "name": "stderr",
          "text": [
            " 74%|███████▎  | 14722/20000 [00:56<00:28, 182.05it/s]"
          ]
        },
        {
          "output_type": "stream",
          "name": "stdout",
          "text": [
            "Epoch: 14701 ===> Loss: 21.5747, Accuracy: 0.2533\n"
          ]
        },
        {
          "output_type": "stream",
          "name": "stderr",
          "text": [
            " 74%|███████▍  | 14875/20000 [00:57<00:30, 168.16it/s]"
          ]
        },
        {
          "output_type": "stream",
          "name": "stdout",
          "text": [
            "Epoch: 14851 ===> Loss: 20.9123, Accuracy: 0.2333\n"
          ]
        },
        {
          "output_type": "stream",
          "name": "stderr",
          "text": [
            " 75%|███████▌  | 15056/20000 [00:58<00:19, 254.52it/s]"
          ]
        },
        {
          "output_type": "stream",
          "name": "stdout",
          "text": [
            "Epoch: 15001 ===> Loss: 22.2573, Accuracy: 0.2433\n"
          ]
        },
        {
          "output_type": "stream",
          "name": "stderr",
          "text": [
            " 76%|███████▌  | 15186/20000 [00:58<00:15, 304.44it/s]"
          ]
        },
        {
          "output_type": "stream",
          "name": "stdout",
          "text": [
            "Epoch: 15151 ===> Loss: 20.1974, Accuracy: 0.2700\n"
          ]
        },
        {
          "output_type": "stream",
          "name": "stderr",
          "text": [
            " 77%|███████▋  | 15362/20000 [00:59<00:14, 322.13it/s]"
          ]
        },
        {
          "output_type": "stream",
          "name": "stdout",
          "text": [
            "Epoch: 15301 ===> Loss: 19.0711, Accuracy: 0.2700\n"
          ]
        },
        {
          "output_type": "stream",
          "name": "stderr",
          "text": [
            " 77%|███████▋  | 15493/20000 [00:59<00:14, 303.93it/s]"
          ]
        },
        {
          "output_type": "stream",
          "name": "stdout",
          "text": [
            "Epoch: 15451 ===> Loss: 20.3376, Accuracy: 0.2667\n"
          ]
        },
        {
          "output_type": "stream",
          "name": "stderr",
          "text": [
            " 78%|███████▊  | 15658/20000 [01:00<00:13, 321.87it/s]"
          ]
        },
        {
          "output_type": "stream",
          "name": "stdout",
          "text": [
            "Epoch: 15601 ===> Loss: 19.6208, Accuracy: 0.2400\n"
          ]
        },
        {
          "output_type": "stream",
          "name": "stderr",
          "text": [
            " 79%|███████▉  | 15788/20000 [01:00<00:13, 308.02it/s]"
          ]
        },
        {
          "output_type": "stream",
          "name": "stdout",
          "text": [
            "Epoch: 15751 ===> Loss: 21.7498, Accuracy: 0.2200\n"
          ]
        },
        {
          "output_type": "stream",
          "name": "stderr",
          "text": [
            " 80%|███████▉  | 15958/20000 [01:01<00:12, 329.16it/s]"
          ]
        },
        {
          "output_type": "stream",
          "name": "stdout",
          "text": [
            "Epoch: 15901 ===> Loss: 21.7937, Accuracy: 0.2200\n"
          ]
        },
        {
          "output_type": "stream",
          "name": "stderr",
          "text": [
            " 80%|████████  | 16091/20000 [01:01<00:12, 308.10it/s]"
          ]
        },
        {
          "output_type": "stream",
          "name": "stdout",
          "text": [
            "Epoch: 16051 ===> Loss: 20.2067, Accuracy: 0.2733\n"
          ]
        },
        {
          "output_type": "stream",
          "name": "stderr",
          "text": [
            " 81%|████████▏ | 16261/20000 [01:02<00:11, 323.81it/s]"
          ]
        },
        {
          "output_type": "stream",
          "name": "stdout",
          "text": [
            "Epoch: 16201 ===> Loss: 20.3343, Accuracy: 0.3067\n"
          ]
        },
        {
          "output_type": "stream",
          "name": "stderr",
          "text": [
            " 82%|████████▏ | 16392/20000 [01:02<00:12, 289.16it/s]"
          ]
        },
        {
          "output_type": "stream",
          "name": "stdout",
          "text": [
            "Epoch: 16351 ===> Loss: 18.4394, Accuracy: 0.2667\n"
          ]
        },
        {
          "output_type": "stream",
          "name": "stderr",
          "text": [
            " 83%|████████▎ | 16556/20000 [01:03<00:10, 317.01it/s]"
          ]
        },
        {
          "output_type": "stream",
          "name": "stdout",
          "text": [
            "Epoch: 16501 ===> Loss: 19.2871, Accuracy: 0.2800\n"
          ]
        },
        {
          "output_type": "stream",
          "name": "stderr",
          "text": [
            " 83%|████████▎ | 16687/20000 [01:03<00:10, 304.19it/s]"
          ]
        },
        {
          "output_type": "stream",
          "name": "stdout",
          "text": [
            "Epoch: 16651 ===> Loss: 18.2206, Accuracy: 0.2433\n"
          ]
        },
        {
          "output_type": "stream",
          "name": "stderr",
          "text": [
            " 84%|████████▍ | 16855/20000 [01:04<00:09, 327.15it/s]"
          ]
        },
        {
          "output_type": "stream",
          "name": "stdout",
          "text": [
            "Epoch: 16801 ===> Loss: 19.8638, Accuracy: 0.2233\n"
          ]
        },
        {
          "output_type": "stream",
          "name": "stderr",
          "text": [
            " 85%|████████▍ | 16986/20000 [01:04<00:09, 303.21it/s]"
          ]
        },
        {
          "output_type": "stream",
          "name": "stdout",
          "text": [
            "Epoch: 16951 ===> Loss: 18.9476, Accuracy: 0.2800\n"
          ]
        },
        {
          "output_type": "stream",
          "name": "stderr",
          "text": [
            " 86%|████████▌ | 17149/20000 [01:05<00:09, 310.83it/s]"
          ]
        },
        {
          "output_type": "stream",
          "name": "stdout",
          "text": [
            "Epoch: 17101 ===> Loss: 19.3997, Accuracy: 0.2800\n"
          ]
        },
        {
          "output_type": "stream",
          "name": "stderr",
          "text": [
            " 86%|████████▋ | 17278/20000 [01:05<00:09, 290.36it/s]"
          ]
        },
        {
          "output_type": "stream",
          "name": "stdout",
          "text": [
            "Epoch: 17251 ===> Loss: 18.2000, Accuracy: 0.3067\n"
          ]
        },
        {
          "output_type": "stream",
          "name": "stderr",
          "text": [
            " 87%|████████▋ | 17440/20000 [01:06<00:08, 310.44it/s]"
          ]
        },
        {
          "output_type": "stream",
          "name": "stdout",
          "text": [
            "Epoch: 17401 ===> Loss: 19.0649, Accuracy: 0.2967\n"
          ]
        },
        {
          "output_type": "stream",
          "name": "stderr",
          "text": [
            " 88%|████████▊ | 17603/20000 [01:06<00:07, 301.72it/s]"
          ]
        },
        {
          "output_type": "stream",
          "name": "stdout",
          "text": [
            "Epoch: 17551 ===> Loss: 19.8430, Accuracy: 0.2867\n"
          ]
        },
        {
          "output_type": "stream",
          "name": "stderr",
          "text": [
            " 89%|████████▊ | 17733/20000 [01:07<00:07, 307.71it/s]"
          ]
        },
        {
          "output_type": "stream",
          "name": "stdout",
          "text": [
            "Epoch: 17701 ===> Loss: 18.7249, Accuracy: 0.3000\n"
          ]
        },
        {
          "output_type": "stream",
          "name": "stderr",
          "text": [
            " 89%|████████▉ | 17894/20000 [01:07<00:07, 298.04it/s]"
          ]
        },
        {
          "output_type": "stream",
          "name": "stdout",
          "text": [
            "Epoch: 17851 ===> Loss: 19.1329, Accuracy: 0.2100\n"
          ]
        },
        {
          "output_type": "stream",
          "name": "stderr",
          "text": [
            " 90%|█████████ | 18058/20000 [01:08<00:06, 319.39it/s]"
          ]
        },
        {
          "output_type": "stream",
          "name": "stdout",
          "text": [
            "Epoch: 18001 ===> Loss: 16.7830, Accuracy: 0.2733\n"
          ]
        },
        {
          "output_type": "stream",
          "name": "stderr",
          "text": [
            " 91%|█████████ | 18181/20000 [01:08<00:07, 238.19it/s]"
          ]
        },
        {
          "output_type": "stream",
          "name": "stdout",
          "text": [
            "Epoch: 18151 ===> Loss: 20.2634, Accuracy: 0.2533\n"
          ]
        },
        {
          "output_type": "stream",
          "name": "stderr",
          "text": [
            " 92%|█████████▏| 18336/20000 [01:09<00:08, 194.30it/s]"
          ]
        },
        {
          "output_type": "stream",
          "name": "stdout",
          "text": [
            "Epoch: 18301 ===> Loss: 20.7683, Accuracy: 0.2767\n"
          ]
        },
        {
          "output_type": "stream",
          "name": "stderr",
          "text": [
            " 92%|█████████▏| 18479/20000 [01:10<00:08, 187.86it/s]"
          ]
        },
        {
          "output_type": "stream",
          "name": "stdout",
          "text": [
            "Epoch: 18451 ===> Loss: 18.1162, Accuracy: 0.2633\n"
          ]
        },
        {
          "output_type": "stream",
          "name": "stderr",
          "text": [
            " 93%|█████████▎| 18631/20000 [01:11<00:07, 175.39it/s]"
          ]
        },
        {
          "output_type": "stream",
          "name": "stdout",
          "text": [
            "Epoch: 18601 ===> Loss: 19.3830, Accuracy: 0.2400\n"
          ]
        },
        {
          "output_type": "stream",
          "name": "stderr",
          "text": [
            " 94%|█████████▍| 18784/20000 [01:12<00:06, 174.65it/s]"
          ]
        },
        {
          "output_type": "stream",
          "name": "stdout",
          "text": [
            "Epoch: 18751 ===> Loss: 18.4982, Accuracy: 0.2900\n"
          ]
        },
        {
          "output_type": "stream",
          "name": "stderr",
          "text": [
            " 95%|█████████▍| 18924/20000 [01:12<00:06, 178.54it/s]"
          ]
        },
        {
          "output_type": "stream",
          "name": "stdout",
          "text": [
            "Epoch: 18901 ===> Loss: 19.1230, Accuracy: 0.2400\n"
          ]
        },
        {
          "output_type": "stream",
          "name": "stderr",
          "text": [
            " 96%|█████████▌| 19104/20000 [01:13<00:03, 241.95it/s]"
          ]
        },
        {
          "output_type": "stream",
          "name": "stdout",
          "text": [
            "Epoch: 19051 ===> Loss: 16.6045, Accuracy: 0.2733\n"
          ]
        },
        {
          "output_type": "stream",
          "name": "stderr",
          "text": [
            " 96%|█████████▌| 19238/20000 [01:14<00:02, 314.33it/s]"
          ]
        },
        {
          "output_type": "stream",
          "name": "stdout",
          "text": [
            "Epoch: 19201 ===> Loss: 18.0145, Accuracy: 0.2400\n"
          ]
        },
        {
          "output_type": "stream",
          "name": "stderr",
          "text": [
            " 97%|█████████▋| 19405/20000 [01:14<00:01, 322.48it/s]"
          ]
        },
        {
          "output_type": "stream",
          "name": "stdout",
          "text": [
            "Epoch: 19351 ===> Loss: 18.3655, Accuracy: 0.2567\n"
          ]
        },
        {
          "output_type": "stream",
          "name": "stderr",
          "text": [
            " 98%|█████████▊| 19535/20000 [01:15<00:01, 316.48it/s]"
          ]
        },
        {
          "output_type": "stream",
          "name": "stdout",
          "text": [
            "Epoch: 19501 ===> Loss: 18.6626, Accuracy: 0.2733\n"
          ]
        },
        {
          "output_type": "stream",
          "name": "stderr",
          "text": [
            " 99%|█████████▊| 19707/20000 [01:15<00:00, 314.18it/s]"
          ]
        },
        {
          "output_type": "stream",
          "name": "stdout",
          "text": [
            "Epoch: 19651 ===> Loss: 18.0352, Accuracy: 0.2667\n"
          ]
        },
        {
          "output_type": "stream",
          "name": "stderr",
          "text": [
            " 99%|█████████▉| 19838/20000 [01:15<00:00, 317.55it/s]"
          ]
        },
        {
          "output_type": "stream",
          "name": "stdout",
          "text": [
            "Epoch: 19801 ===> Loss: 18.1128, Accuracy: 0.2633\n"
          ]
        },
        {
          "output_type": "stream",
          "name": "stderr",
          "text": [
            "100%|██████████| 20000/20000 [01:16<00:00, 261.58it/s]\n"
          ]
        },
        {
          "output_type": "stream",
          "name": "stdout",
          "text": [
            "Epoch: 19951 ===> Loss: 17.0006, Accuracy: 0.2900\n",
            "Test Accuracy: 0.2700\n"
          ]
        }
      ],
      "source": [
        "path = \"/content/drive/MyDrive/세종교육/spm_ann/Dataset_SPM_demagnetization.csv\"\n",
        "df = pd.read_csv(path)\n",
        "df.keys()\n",
        "X = df[['T_spec', 'Rated_speed_spec', 'Bmr', 'delta', 'm', 'so', 'd0', 'Lmagn',\n",
        "       'h4', 'h3', 'max_OL_analytical']].values\n",
        "y = df[['max_OL']].values\n",
        "X = (X - X.min(axis=0)) / (X.max(axis=0) - X.min(axis=0))\n",
        "X_train, X_test, y_train, y_test = train_test_split(X, y, test_size=0.2, random_state=42)\n",
        "y_train = tf.one_hot(y_train.flatten(), 12)\n",
        "y_test = tf.one_hot(y_test.flatten(), 12)\n",
        "\n",
        "\n",
        "train_data = tf.data.Dataset.from_tensor_slices((X_train, y_train))\n",
        "train_data = train_data.shuffle(buffer_size=X_train.shape[0]).batch(300).repeat()\n",
        "trainDataIter = iter(train_data)\n",
        "\n",
        "\n",
        "epochs = 20000\n",
        "frequency = 150\n",
        "\n",
        "model = SPMANN()\n",
        "y_loss = train_learning(epochs, frequency, trainDataIter, model, X_test, y_test)"
      ]
    }
  ]
}