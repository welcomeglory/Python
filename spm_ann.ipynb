{
  "nbformat": 4,
  "nbformat_minor": 0,
  "metadata": {
    "colab": {
      "provenance": [],
      "gpuType": "T4",
      "mount_file_id": "https://github.com/welcomeglory/Python/blob/master/spm_ann.ipynb",
      "authorship_tag": "ABX9TyO4cJ7j0z+JFc7nmM7KVoct",
      "include_colab_link": true
    },
    "kernelspec": {
      "name": "python3",
      "display_name": "Python 3"
    },
    "language_info": {
      "name": "python"
    },
    "accelerator": "GPU"
  },
  "cells": [
    {
      "cell_type": "markdown",
      "metadata": {
        "id": "view-in-github",
        "colab_type": "text"
      },
      "source": [
        "<a href=\"https://colab.research.google.com/github/welcomeglory/Python/blob/master/spm_ann.ipynb\" target=\"_parent\"><img src=\"https://colab.research.google.com/assets/colab-badge.svg\" alt=\"Open In Colab\"/></a>"
      ]
    },
    {
      "cell_type": "code",
      "source": [
        "import pandas as pd\n",
        "import numpy as np\n",
        "import tensorflow as tf\n",
        "print(tf.__version__)\n",
        "from sklearn.model_selection import train_test_split"
      ],
      "metadata": {
        "colab": {
          "base_uri": "https://localhost:8080/"
        },
        "id": "J1V1I3ZJggJ-",
        "outputId": "0e0f16fd-2c3f-4186-f8b9-656ddee7976f"
      },
      "execution_count": 22,
      "outputs": [
        {
          "output_type": "stream",
          "name": "stdout",
          "text": [
            "2.17.0\n"
          ]
        }
      ]
    },
    {
      "cell_type": "code",
      "source": [
        "# 사용자 정의 신경망 모델을 정의\n",
        "import pandas as pd\n",
        "import numpy as np\n",
        "from tqdm import tqdm\n",
        "from sklearn.model_selection import train_test_split\n",
        "# Define the model class\n",
        "class WeatherANN(tf.keras.Model):\n",
        "    def __init__(self):\n",
        "        super(WeatherANN, self).__init__()\n",
        "\n",
        "        self.hid1 = tf.keras.layers.Dense(32,\n",
        "                                          activation='relu',\n",
        "                                          kernel_initializer=self.weight_initialization(),\n",
        "                                          bias_initializer=self.weight_initialization())\n",
        "        self.drop1 = tf.keras.layers.Dropout(0.2)\n",
        "\n",
        "        self.hid2 = tf.keras.layers.Dense(32,\n",
        "                                          activation='relu',\n",
        "                                          kernel_initializer=self.weight_initialization(),\n",
        "                                          bias_initializer=self.weight_initialization())\n",
        "        self.drop2 = tf.keras.layers.Dropout(0.2)\n",
        "\n",
        "\n",
        "        self.result = tf.keras.layers.Dense(12,\n",
        "                                            activation=None,\n",
        "                                            kernel_initializer=self.weight_initialization(),\n",
        "                                            bias_initializer=self.weight_initialization())\n",
        "\n",
        "    def weight_initialization(self):\n",
        "        return tf.keras.initializers.RandomNormal(mean=0., stddev=1.)\n",
        "\n",
        "    def call(self, x, training=False):  # Forward pass\n",
        "        y1 = self.hid1(x)\n",
        "        d1 = self.drop1(y1, training=training)\n",
        "        y2 = self.hid2(d1)\n",
        "        d2 = self.drop2(y2, training=training)\n",
        "        logits = self.result(d2)\n",
        "        sy = tf.nn.softmax(logits)\n",
        "        return logits, sy"
      ],
      "metadata": {
        "id": "D0VkEi96iLzv"
      },
      "execution_count": 23,
      "outputs": []
    },
    {
      "cell_type": "code",
      "source": [
        "# Loss function\n",
        "@tf.function\n",
        "def cross_entropy_loss(logits, y):\n",
        "    return tf.reduce_mean(tf.nn.softmax_cross_entropy_with_logits(logits=logits, labels=y))\n",
        "\n",
        "# Optimizer and backward pass\n",
        "learningRate = 0.001\n",
        "optimizer = tf.optimizers.Adam(learningRate)\n",
        "\n",
        "@tf.function\n",
        "def backward(model, x, y):\n",
        "    with tf.GradientTape() as grad:\n",
        "        logits, sy = model(x, training=True)\n",
        "        loss = cross_entropy_loss(logits, y)\n",
        "    grads = grad.gradient(loss, model.trainable_variables)\n",
        "    optimizer.apply_gradients(zip(grads, model.trainable_variables))\n",
        "    return loss\n",
        "\n",
        "# Accuracy function\n",
        "@tf.function\n",
        "def accuracy(predY, y):\n",
        "    correct_predictions = tf.equal(tf.argmax(predY, axis=1), tf.argmax(y, axis=1))\n",
        "    acc = tf.reduce_mean(tf.cast(correct_predictions, tf.float32))\n",
        "    return acc"
      ],
      "metadata": {
        "id": "JuCZXxIzirBA"
      },
      "execution_count": 24,
      "outputs": []
    },
    {
      "cell_type": "code",
      "source": [
        "# 훈련 데이터 함수\n",
        "def train_learning(epochs, frequency, trainDataIter, model, XTest, yTest):\n",
        "    y_loss = []\n",
        "    for epoch in tqdm(range(epochs)):\n",
        "        bx, by = next(trainDataIter)\n",
        "        loss = backward(model, bx, by)\n",
        "        y_loss.append(loss)\n",
        "        if epoch % frequency == 0:\n",
        "            predY, sy = model(bx, training=False)\n",
        "            acc = accuracy(predY, by)\n",
        "            print(f\"Epoch: {epoch+1} ===> Loss: {loss:.4f}, Accuracy: {acc:.4f}\")\n",
        "    predY, sy = model(XTest, training=False)\n",
        "    acc = accuracy(predY, yTest)\n",
        "    print(f\"Test Accuracy: {acc:.4f}\")\n",
        "    return y_loss"
      ],
      "metadata": {
        "id": "wZ2PaQ9eiwAl"
      },
      "execution_count": 25,
      "outputs": []
    },
    {
      "cell_type": "code",
      "execution_count": 26,
      "metadata": {
        "colab": {
          "base_uri": "https://localhost:8080/"
        },
        "id": "2FRzi2BwgPf_",
        "outputId": "344c21d6-bb3a-4570-8813-a89ca18acabe"
      },
      "outputs": [
        {
          "output_type": "stream",
          "name": "stderr",
          "text": [
            "  0%|          | 1/10000 [00:01<3:38:42,  1.31s/it]"
          ]
        },
        {
          "output_type": "stream",
          "name": "stdout",
          "text": [
            "Epoch: 1 ===> Loss: 70.0358, Accuracy: 0.0867\n"
          ]
        },
        {
          "output_type": "stream",
          "name": "stderr",
          "text": [
            "  2%|▏         | 190/10000 [00:02<00:50, 193.11it/s]"
          ]
        },
        {
          "output_type": "stream",
          "name": "stdout",
          "text": [
            "Epoch: 151 ===> Loss: 21.0816, Accuracy: 0.2400\n"
          ]
        },
        {
          "output_type": "stream",
          "name": "stderr",
          "text": [
            "  4%|▎         | 365/10000 [00:02<00:31, 309.82it/s]"
          ]
        },
        {
          "output_type": "stream",
          "name": "stdout",
          "text": [
            "Epoch: 301 ===> Loss: 12.3940, Accuracy: 0.2833\n"
          ]
        },
        {
          "output_type": "stream",
          "name": "stderr",
          "text": [
            "  5%|▌         | 504/10000 [00:03<00:28, 329.05it/s]"
          ]
        },
        {
          "output_type": "stream",
          "name": "stdout",
          "text": [
            "Epoch: 451 ===> Loss: 8.1149, Accuracy: 0.3267\n"
          ]
        },
        {
          "output_type": "stream",
          "name": "stderr",
          "text": [
            "  6%|▋         | 644/10000 [00:03<00:28, 332.13it/s]"
          ]
        },
        {
          "output_type": "stream",
          "name": "stdout",
          "text": [
            "Epoch: 601 ===> Loss: 5.0283, Accuracy: 0.3267\n"
          ]
        },
        {
          "output_type": "stream",
          "name": "stderr",
          "text": [
            "  8%|▊         | 783/10000 [00:04<00:29, 317.09it/s]"
          ]
        },
        {
          "output_type": "stream",
          "name": "stdout",
          "text": [
            "Epoch: 751 ===> Loss: 3.3449, Accuracy: 0.3000\n"
          ]
        },
        {
          "output_type": "stream",
          "name": "stderr",
          "text": [
            "  9%|▉         | 946/10000 [00:04<00:28, 321.50it/s]"
          ]
        },
        {
          "output_type": "stream",
          "name": "stdout",
          "text": [
            "Epoch: 901 ===> Loss: 2.6495, Accuracy: 0.3100\n"
          ]
        },
        {
          "output_type": "stream",
          "name": "stderr",
          "text": [
            " 11%|█         | 1087/10000 [00:05<00:27, 325.03it/s]"
          ]
        },
        {
          "output_type": "stream",
          "name": "stdout",
          "text": [
            "Epoch: 1051 ===> Loss: 2.7673, Accuracy: 0.3300\n"
          ]
        },
        {
          "output_type": "stream",
          "name": "stderr",
          "text": [
            " 13%|█▎        | 1262/10000 [00:05<00:26, 333.70it/s]"
          ]
        },
        {
          "output_type": "stream",
          "name": "stdout",
          "text": [
            "Epoch: 1201 ===> Loss: 2.1748, Accuracy: 0.3500\n"
          ]
        },
        {
          "output_type": "stream",
          "name": "stderr",
          "text": [
            " 14%|█▍        | 1401/10000 [00:05<00:27, 318.00it/s]"
          ]
        },
        {
          "output_type": "stream",
          "name": "stdout",
          "text": [
            "Epoch: 1351 ===> Loss: 1.9519, Accuracy: 0.4033\n"
          ]
        },
        {
          "output_type": "stream",
          "name": "stderr",
          "text": [
            " 15%|█▌        | 1545/10000 [00:06<00:25, 331.81it/s]"
          ]
        },
        {
          "output_type": "stream",
          "name": "stdout",
          "text": [
            "Epoch: 1501 ===> Loss: 1.9374, Accuracy: 0.3600\n"
          ]
        },
        {
          "output_type": "stream",
          "name": "stderr",
          "text": [
            " 17%|█▋        | 1691/10000 [00:06<00:23, 348.82it/s]"
          ]
        },
        {
          "output_type": "stream",
          "name": "stdout",
          "text": [
            "Epoch: 1651 ===> Loss: 1.7333, Accuracy: 0.4367\n"
          ]
        },
        {
          "output_type": "stream",
          "name": "stderr",
          "text": [
            " 18%|█▊        | 1835/10000 [00:07<00:25, 325.78it/s]"
          ]
        },
        {
          "output_type": "stream",
          "name": "stdout",
          "text": [
            "Epoch: 1801 ===> Loss: 1.6588, Accuracy: 0.4533\n"
          ]
        },
        {
          "output_type": "stream",
          "name": "stderr",
          "text": [
            " 20%|██        | 2005/10000 [00:07<00:24, 330.43it/s]"
          ]
        },
        {
          "output_type": "stream",
          "name": "stdout",
          "text": [
            "Epoch: 1951 ===> Loss: 1.7877, Accuracy: 0.5367\n"
          ]
        },
        {
          "output_type": "stream",
          "name": "stderr",
          "text": [
            " 21%|██▏       | 2141/10000 [00:08<00:23, 327.63it/s]"
          ]
        },
        {
          "output_type": "stream",
          "name": "stdout",
          "text": [
            "Epoch: 2101 ===> Loss: 1.6944, Accuracy: 0.5500\n"
          ]
        },
        {
          "output_type": "stream",
          "name": "stderr",
          "text": [
            " 23%|██▎       | 2319/10000 [00:08<00:22, 341.89it/s]"
          ]
        },
        {
          "output_type": "stream",
          "name": "stdout",
          "text": [
            "Epoch: 2251 ===> Loss: 1.5874, Accuracy: 0.5500\n"
          ]
        },
        {
          "output_type": "stream",
          "name": "stderr",
          "text": [
            " 24%|██▍       | 2440/10000 [00:09<00:33, 227.88it/s]"
          ]
        },
        {
          "output_type": "stream",
          "name": "stdout",
          "text": [
            "Epoch: 2401 ===> Loss: 1.6080, Accuracy: 0.5500\n"
          ]
        },
        {
          "output_type": "stream",
          "name": "stderr",
          "text": [
            " 26%|██▌       | 2574/10000 [00:10<00:38, 192.15it/s]"
          ]
        },
        {
          "output_type": "stream",
          "name": "stdout",
          "text": [
            "Epoch: 2551 ===> Loss: 1.5309, Accuracy: 0.5900\n"
          ]
        },
        {
          "output_type": "stream",
          "name": "stderr",
          "text": [
            " 27%|██▋       | 2735/10000 [00:10<00:38, 189.26it/s]"
          ]
        },
        {
          "output_type": "stream",
          "name": "stdout",
          "text": [
            "Epoch: 2701 ===> Loss: 1.6196, Accuracy: 0.5933\n"
          ]
        },
        {
          "output_type": "stream",
          "name": "stderr",
          "text": [
            " 29%|██▉       | 2879/10000 [00:11<00:36, 193.82it/s]"
          ]
        },
        {
          "output_type": "stream",
          "name": "stdout",
          "text": [
            "Epoch: 2851 ===> Loss: 1.5168, Accuracy: 0.6267\n"
          ]
        },
        {
          "output_type": "stream",
          "name": "stderr",
          "text": [
            " 30%|███       | 3025/10000 [00:12<00:36, 192.89it/s]"
          ]
        },
        {
          "output_type": "stream",
          "name": "stdout",
          "text": [
            "Epoch: 3001 ===> Loss: 1.4854, Accuracy: 0.6367\n"
          ]
        },
        {
          "output_type": "stream",
          "name": "stderr",
          "text": [
            " 32%|███▏      | 3180/10000 [00:13<00:39, 172.89it/s]"
          ]
        },
        {
          "output_type": "stream",
          "name": "stdout",
          "text": [
            "Epoch: 3151 ===> Loss: 1.3270, Accuracy: 0.6933\n"
          ]
        },
        {
          "output_type": "stream",
          "name": "stderr",
          "text": [
            " 33%|███▎      | 3349/10000 [00:14<00:30, 221.46it/s]"
          ]
        },
        {
          "output_type": "stream",
          "name": "stdout",
          "text": [
            "Epoch: 3301 ===> Loss: 1.4059, Accuracy: 0.6567\n"
          ]
        },
        {
          "output_type": "stream",
          "name": "stderr",
          "text": [
            " 35%|███▌      | 3507/10000 [00:14<00:21, 301.26it/s]"
          ]
        },
        {
          "output_type": "stream",
          "name": "stdout",
          "text": [
            "Epoch: 3451 ===> Loss: 1.4412, Accuracy: 0.6333\n"
          ]
        },
        {
          "output_type": "stream",
          "name": "stderr",
          "text": [
            " 36%|███▋      | 3642/10000 [00:15<00:21, 302.57it/s]"
          ]
        },
        {
          "output_type": "stream",
          "name": "stdout",
          "text": [
            "Epoch: 3601 ===> Loss: 1.3728, Accuracy: 0.6667\n"
          ]
        },
        {
          "output_type": "stream",
          "name": "stderr",
          "text": [
            " 38%|███▊      | 3813/10000 [00:15<00:18, 330.86it/s]"
          ]
        },
        {
          "output_type": "stream",
          "name": "stdout",
          "text": [
            "Epoch: 3751 ===> Loss: 1.3520, Accuracy: 0.6633\n"
          ]
        },
        {
          "output_type": "stream",
          "name": "stderr",
          "text": [
            " 40%|███▉      | 3952/10000 [00:16<00:19, 311.85it/s]"
          ]
        },
        {
          "output_type": "stream",
          "name": "stdout",
          "text": [
            "Epoch: 3901 ===> Loss: 1.3212, Accuracy: 0.6867\n"
          ]
        },
        {
          "output_type": "stream",
          "name": "stderr",
          "text": [
            " 41%|████      | 4089/10000 [00:16<00:17, 329.32it/s]"
          ]
        },
        {
          "output_type": "stream",
          "name": "stdout",
          "text": [
            "Epoch: 4051 ===> Loss: 1.3429, Accuracy: 0.6833\n"
          ]
        },
        {
          "output_type": "stream",
          "name": "stderr",
          "text": [
            " 42%|████▏     | 4234/10000 [00:16<00:17, 332.11it/s]"
          ]
        },
        {
          "output_type": "stream",
          "name": "stdout",
          "text": [
            "Epoch: 4201 ===> Loss: 1.3501, Accuracy: 0.6633\n"
          ]
        },
        {
          "output_type": "stream",
          "name": "stderr",
          "text": [
            " 44%|████▍     | 4408/10000 [00:17<00:16, 334.41it/s]"
          ]
        },
        {
          "output_type": "stream",
          "name": "stdout",
          "text": [
            "Epoch: 4351 ===> Loss: 1.3501, Accuracy: 0.7000\n"
          ]
        },
        {
          "output_type": "stream",
          "name": "stderr",
          "text": [
            " 46%|████▌     | 4551/10000 [00:17<00:16, 327.92it/s]"
          ]
        },
        {
          "output_type": "stream",
          "name": "stdout",
          "text": [
            "Epoch: 4501 ===> Loss: 1.2476, Accuracy: 0.6833\n"
          ]
        },
        {
          "output_type": "stream",
          "name": "stderr",
          "text": [
            " 47%|████▋     | 4686/10000 [00:18<00:16, 323.38it/s]"
          ]
        },
        {
          "output_type": "stream",
          "name": "stdout",
          "text": [
            "Epoch: 4651 ===> Loss: 1.2815, Accuracy: 0.6733\n"
          ]
        },
        {
          "output_type": "stream",
          "name": "stderr",
          "text": [
            " 49%|████▊     | 4868/10000 [00:18<00:14, 349.00it/s]"
          ]
        },
        {
          "output_type": "stream",
          "name": "stdout",
          "text": [
            "Epoch: 4801 ===> Loss: 1.3167, Accuracy: 0.6867\n"
          ]
        },
        {
          "output_type": "stream",
          "name": "stderr",
          "text": [
            " 50%|█████     | 5004/10000 [00:19<00:16, 307.41it/s]"
          ]
        },
        {
          "output_type": "stream",
          "name": "stdout",
          "text": [
            "Epoch: 4951 ===> Loss: 1.2062, Accuracy: 0.7033\n"
          ]
        },
        {
          "output_type": "stream",
          "name": "stderr",
          "text": [
            " 51%|█████     | 5105/10000 [00:19<00:19, 247.99it/s]"
          ]
        },
        {
          "output_type": "stream",
          "name": "stdout",
          "text": [
            "Epoch: 5101 ===> Loss: 1.2637, Accuracy: 0.6500\n"
          ]
        },
        {
          "output_type": "stream",
          "name": "stderr",
          "text": [
            " 53%|█████▎    | 5299/10000 [00:20<00:17, 261.53it/s]"
          ]
        },
        {
          "output_type": "stream",
          "name": "stdout",
          "text": [
            "Epoch: 5251 ===> Loss: 1.2981, Accuracy: 0.6867\n"
          ]
        },
        {
          "output_type": "stream",
          "name": "stderr",
          "text": [
            " 54%|█████▍    | 5438/10000 [00:21<00:14, 318.57it/s]"
          ]
        },
        {
          "output_type": "stream",
          "name": "stdout",
          "text": [
            "Epoch: 5401 ===> Loss: 1.2994, Accuracy: 0.6433\n"
          ]
        },
        {
          "output_type": "stream",
          "name": "stderr",
          "text": [
            " 56%|█████▌    | 5612/10000 [00:21<00:13, 331.07it/s]"
          ]
        },
        {
          "output_type": "stream",
          "name": "stdout",
          "text": [
            "Epoch: 5551 ===> Loss: 1.3763, Accuracy: 0.6367\n"
          ]
        },
        {
          "output_type": "stream",
          "name": "stderr",
          "text": [
            " 58%|█████▊    | 5751/10000 [00:22<00:13, 318.54it/s]"
          ]
        },
        {
          "output_type": "stream",
          "name": "stdout",
          "text": [
            "Epoch: 5701 ===> Loss: 1.1824, Accuracy: 0.7067\n"
          ]
        },
        {
          "output_type": "stream",
          "name": "stderr",
          "text": [
            " 59%|█████▉    | 5916/10000 [00:22<00:12, 322.64it/s]"
          ]
        },
        {
          "output_type": "stream",
          "name": "stdout",
          "text": [
            "Epoch: 5851 ===> Loss: 1.1103, Accuracy: 0.6933\n"
          ]
        },
        {
          "output_type": "stream",
          "name": "stderr",
          "text": [
            " 61%|██████    | 6056/10000 [00:23<00:12, 323.19it/s]"
          ]
        },
        {
          "output_type": "stream",
          "name": "stdout",
          "text": [
            "Epoch: 6001 ===> Loss: 1.0847, Accuracy: 0.7367\n"
          ]
        },
        {
          "output_type": "stream",
          "name": "stderr",
          "text": [
            " 62%|██████▏   | 6193/10000 [00:23<00:11, 326.61it/s]"
          ]
        },
        {
          "output_type": "stream",
          "name": "stdout",
          "text": [
            "Epoch: 6151 ===> Loss: 1.0868, Accuracy: 0.7133\n"
          ]
        },
        {
          "output_type": "stream",
          "name": "stderr",
          "text": [
            " 64%|██████▎   | 6368/10000 [00:23<00:10, 330.20it/s]"
          ]
        },
        {
          "output_type": "stream",
          "name": "stdout",
          "text": [
            "Epoch: 6301 ===> Loss: 1.0220, Accuracy: 0.7267\n"
          ]
        },
        {
          "output_type": "stream",
          "name": "stderr",
          "text": [
            " 65%|██████▍   | 6485/10000 [00:24<00:14, 239.69it/s]"
          ]
        },
        {
          "output_type": "stream",
          "name": "stdout",
          "text": [
            "Epoch: 6451 ===> Loss: 1.0940, Accuracy: 0.7400\n"
          ]
        },
        {
          "output_type": "stream",
          "name": "stderr",
          "text": [
            " 66%|██████▌   | 6621/10000 [00:25<00:16, 201.41it/s]"
          ]
        },
        {
          "output_type": "stream",
          "name": "stdout",
          "text": [
            "Epoch: 6601 ===> Loss: 0.9422, Accuracy: 0.7800\n"
          ]
        },
        {
          "output_type": "stream",
          "name": "stderr",
          "text": [
            " 68%|██████▊   | 6787/10000 [00:26<00:16, 190.45it/s]"
          ]
        },
        {
          "output_type": "stream",
          "name": "stdout",
          "text": [
            "Epoch: 6751 ===> Loss: 0.9633, Accuracy: 0.7633\n"
          ]
        },
        {
          "output_type": "stream",
          "name": "stderr",
          "text": [
            " 69%|██████▉   | 6937/10000 [00:26<00:15, 202.35it/s]"
          ]
        },
        {
          "output_type": "stream",
          "name": "stdout",
          "text": [
            "Epoch: 6901 ===> Loss: 1.0014, Accuracy: 0.7000\n"
          ]
        },
        {
          "output_type": "stream",
          "name": "stderr",
          "text": [
            " 71%|███████   | 7069/10000 [00:27<00:15, 189.71it/s]"
          ]
        },
        {
          "output_type": "stream",
          "name": "stdout",
          "text": [
            "Epoch: 7051 ===> Loss: 0.9615, Accuracy: 0.7700\n"
          ]
        },
        {
          "output_type": "stream",
          "name": "stderr",
          "text": [
            " 72%|███████▏  | 7226/10000 [00:28<00:15, 180.07it/s]"
          ]
        },
        {
          "output_type": "stream",
          "name": "stdout",
          "text": [
            "Epoch: 7201 ===> Loss: 0.9078, Accuracy: 0.8000\n"
          ]
        },
        {
          "output_type": "stream",
          "name": "stderr",
          "text": [
            " 74%|███████▍  | 7387/10000 [00:29<00:09, 270.41it/s]"
          ]
        },
        {
          "output_type": "stream",
          "name": "stdout",
          "text": [
            "Epoch: 7351 ===> Loss: 0.8564, Accuracy: 0.8033\n"
          ]
        },
        {
          "output_type": "stream",
          "name": "stderr",
          "text": [
            " 76%|███████▌  | 7553/10000 [00:29<00:07, 310.19it/s]"
          ]
        },
        {
          "output_type": "stream",
          "name": "stdout",
          "text": [
            "Epoch: 7501 ===> Loss: 0.8744, Accuracy: 0.8033\n"
          ]
        },
        {
          "output_type": "stream",
          "name": "stderr",
          "text": [
            " 77%|███████▋  | 7689/10000 [00:29<00:07, 318.83it/s]"
          ]
        },
        {
          "output_type": "stream",
          "name": "stdout",
          "text": [
            "Epoch: 7651 ===> Loss: 0.8752, Accuracy: 0.8167\n"
          ]
        },
        {
          "output_type": "stream",
          "name": "stderr",
          "text": [
            " 79%|███████▊  | 7862/10000 [00:30<00:06, 319.38it/s]"
          ]
        },
        {
          "output_type": "stream",
          "name": "stdout",
          "text": [
            "Epoch: 7801 ===> Loss: 0.8825, Accuracy: 0.7433\n"
          ]
        },
        {
          "output_type": "stream",
          "name": "stderr",
          "text": [
            " 80%|███████▉  | 7998/10000 [00:30<00:06, 312.77it/s]"
          ]
        },
        {
          "output_type": "stream",
          "name": "stdout",
          "text": [
            "Epoch: 7951 ===> Loss: 0.8413, Accuracy: 0.7867\n"
          ]
        },
        {
          "output_type": "stream",
          "name": "stderr",
          "text": [
            " 81%|████████▏ | 8136/10000 [00:31<00:05, 329.25it/s]"
          ]
        },
        {
          "output_type": "stream",
          "name": "stdout",
          "text": [
            "Epoch: 8101 ===> Loss: 0.8273, Accuracy: 0.8367\n"
          ]
        },
        {
          "output_type": "stream",
          "name": "stderr",
          "text": [
            " 83%|████████▎ | 8310/10000 [00:31<00:05, 326.13it/s]"
          ]
        },
        {
          "output_type": "stream",
          "name": "stdout",
          "text": [
            "Epoch: 8251 ===> Loss: 0.8375, Accuracy: 0.7967\n"
          ]
        },
        {
          "output_type": "stream",
          "name": "stderr",
          "text": [
            " 84%|████████▍ | 8450/10000 [00:32<00:04, 334.73it/s]"
          ]
        },
        {
          "output_type": "stream",
          "name": "stdout",
          "text": [
            "Epoch: 8401 ===> Loss: 0.7310, Accuracy: 0.8067\n"
          ]
        },
        {
          "output_type": "stream",
          "name": "stderr",
          "text": [
            " 86%|████████▌ | 8592/10000 [00:32<00:04, 333.70it/s]"
          ]
        },
        {
          "output_type": "stream",
          "name": "stdout",
          "text": [
            "Epoch: 8551 ===> Loss: 0.8307, Accuracy: 0.8367\n"
          ]
        },
        {
          "output_type": "stream",
          "name": "stderr",
          "text": [
            " 88%|████████▊ | 8764/10000 [00:33<00:03, 330.81it/s]"
          ]
        },
        {
          "output_type": "stream",
          "name": "stdout",
          "text": [
            "Epoch: 8701 ===> Loss: 0.7945, Accuracy: 0.8500\n"
          ]
        },
        {
          "output_type": "stream",
          "name": "stderr",
          "text": [
            " 89%|████████▉ | 8903/10000 [00:33<00:03, 335.50it/s]"
          ]
        },
        {
          "output_type": "stream",
          "name": "stdout",
          "text": [
            "Epoch: 8851 ===> Loss: 0.7824, Accuracy: 0.8300\n"
          ]
        },
        {
          "output_type": "stream",
          "name": "stderr",
          "text": [
            " 90%|█████████ | 9034/10000 [00:34<00:03, 312.34it/s]"
          ]
        },
        {
          "output_type": "stream",
          "name": "stdout",
          "text": [
            "Epoch: 9001 ===> Loss: 0.6715, Accuracy: 0.8800\n"
          ]
        },
        {
          "output_type": "stream",
          "name": "stderr",
          "text": [
            " 92%|█████████▏| 9194/10000 [00:34<00:02, 317.49it/s]"
          ]
        },
        {
          "output_type": "stream",
          "name": "stdout",
          "text": [
            "Epoch: 9151 ===> Loss: 0.7769, Accuracy: 0.8400\n"
          ]
        },
        {
          "output_type": "stream",
          "name": "stderr",
          "text": [
            " 94%|█████████▎| 9355/10000 [00:35<00:02, 312.99it/s]"
          ]
        },
        {
          "output_type": "stream",
          "name": "stdout",
          "text": [
            "Epoch: 9301 ===> Loss: 0.7016, Accuracy: 0.8967\n"
          ]
        },
        {
          "output_type": "stream",
          "name": "stderr",
          "text": [
            " 95%|█████████▍| 9488/10000 [00:35<00:01, 316.94it/s]"
          ]
        },
        {
          "output_type": "stream",
          "name": "stdout",
          "text": [
            "Epoch: 9451 ===> Loss: 0.7930, Accuracy: 0.8567\n"
          ]
        },
        {
          "output_type": "stream",
          "name": "stderr",
          "text": [
            " 97%|█████████▋| 9663/10000 [00:36<00:01, 315.24it/s]"
          ]
        },
        {
          "output_type": "stream",
          "name": "stdout",
          "text": [
            "Epoch: 9601 ===> Loss: 0.6705, Accuracy: 0.8933\n"
          ]
        },
        {
          "output_type": "stream",
          "name": "stderr",
          "text": [
            " 98%|█████████▊| 9803/10000 [00:36<00:00, 334.87it/s]"
          ]
        },
        {
          "output_type": "stream",
          "name": "stdout",
          "text": [
            "Epoch: 9751 ===> Loss: 0.6473, Accuracy: 0.8633\n"
          ]
        },
        {
          "output_type": "stream",
          "name": "stderr",
          "text": [
            " 99%|█████████▉| 9941/10000 [00:36<00:00, 316.47it/s]"
          ]
        },
        {
          "output_type": "stream",
          "name": "stdout",
          "text": [
            "Epoch: 9901 ===> Loss: 0.7079, Accuracy: 0.7867\n"
          ]
        },
        {
          "output_type": "stream",
          "name": "stderr",
          "text": [
            "100%|██████████| 10000/10000 [00:37<00:00, 269.26it/s]\n"
          ]
        },
        {
          "output_type": "stream",
          "name": "stdout",
          "text": [
            "Test Accuracy: 0.8250\n"
          ]
        }
      ],
      "source": [
        "path = \"/content/drive/MyDrive/세종교육/spm_ann/Dataset_SPM_demagnetization.csv\"\n",
        "df = pd.read_csv(path)\n",
        "df.keys()\n",
        "X = df[['T_spec', 'Rated_speed_spec', 'Bmr', 'delta', 'm', 'so', 'd0', 'Lmagn',\n",
        "       'h4', 'h3', 'max_OL_analytical']].values\n",
        "y = df[['max_OL']].values\n",
        "X = (X - X.min(axis=0)) / (X.max(axis=0) - X.min(axis=0))\n",
        "X_train, X_test, y_train, y_test = train_test_split(X, y, test_size=0.2, random_state=42)\n",
        "y_train = tf.one_hot(y_train.flatten(), 12)\n",
        "y_test = tf.one_hot(y_test.flatten(), 12)\n",
        "\n",
        "\n",
        "train_data = tf.data.Dataset.from_tensor_slices((X_train, y_train))\n",
        "train_data = train_data.shuffle(buffer_size=X_train.shape[0]).batch(300).repeat()\n",
        "trainDataIter = iter(train_data)\n",
        "\n",
        "\n",
        "epochs = 10000\n",
        "frequency = 150\n",
        "\n",
        "model = SPMANN()\n",
        "y_loss = train_learning(epochs, frequency, trainDataIter, model, X_test, y_test)"
      ]
    }
  ]
}